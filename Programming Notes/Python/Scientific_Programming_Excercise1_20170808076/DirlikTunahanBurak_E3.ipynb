{
 "cells": [
  {
   "cell_type": "markdown",
   "id": "cbe8ceb2",
   "metadata": {},
   "source": [
    "# 3 Functions"
   ]
  },
  {
   "cell_type": "markdown",
   "id": "c2dd1b2c",
   "metadata": {},
   "source": [
    "## Exercise 3.1: Hello"
   ]
  },
  {
   "cell_type": "code",
   "execution_count": 17,
   "id": "64327d73",
   "metadata": {},
   "outputs": [],
   "source": [
    "#(a)\n",
    "\n",
    "def hello_world():\n",
    "    print(\"Hello, world!\")"
   ]
  },
  {
   "cell_type": "code",
   "execution_count": 18,
   "id": "6d017584",
   "metadata": {},
   "outputs": [
    {
     "name": "stdout",
     "output_type": "stream",
     "text": [
      "Hello, world!\n"
     ]
    }
   ],
   "source": [
    "hello_world()"
   ]
  },
  {
   "cell_type": "code",
   "execution_count": 19,
   "id": "8a41b723",
   "metadata": {},
   "outputs": [],
   "source": [
    "#(b)\n",
    "\n",
    "def hello_name(name):\n",
    "    print(\"Hello, \" + name + \"!\")"
   ]
  },
  {
   "cell_type": "code",
   "execution_count": 20,
   "id": "7ce05bc9",
   "metadata": {},
   "outputs": [
    {
     "name": "stdout",
     "output_type": "stream",
     "text": [
      "Hello, Burak!\n"
     ]
    }
   ],
   "source": [
    "hello_name(\"Burak\")"
   ]
  },
  {
   "cell_type": "code",
   "execution_count": 21,
   "id": "69e1a04d",
   "metadata": {},
   "outputs": [],
   "source": [
    "#(c)\n",
    "# The differences between print and return is: if we use print in the function we cannot use this function to assign variable\n",
    "# and we can not use as an input for another function. Return keyword provide these."
   ]
  },
  {
   "cell_type": "markdown",
   "id": "d0b614e0",
   "metadata": {},
   "source": [
    "# Exercise 3.2: Polynomial"
   ]
  },
  {
   "cell_type": "code",
   "execution_count": 62,
   "id": "ce434138",
   "metadata": {},
   "outputs": [],
   "source": [
    "def polynomial(number):\n",
    "    result = (3 * number * number) - number + 2 \n",
    "    print(result)"
   ]
  },
  {
   "cell_type": "code",
   "execution_count": 63,
   "id": "995d9209",
   "metadata": {},
   "outputs": [
    {
     "name": "stdout",
     "output_type": "stream",
     "text": [
      "12\n"
     ]
    }
   ],
   "source": [
    "polynomial(2)"
   ]
  },
  {
   "cell_type": "markdown",
   "id": "77ab1739",
   "metadata": {},
   "source": [
    "# Exercise 3.3: Maximum"
   ]
  },
  {
   "cell_type": "code",
   "execution_count": 29,
   "id": "40e76f9b",
   "metadata": {},
   "outputs": [],
   "source": [
    "# (a)\n",
    "\n",
    "def my_max(x,y):\n",
    "    if x>y:\n",
    "        return x\n",
    "    if x==y:\n",
    "        return x\n",
    "    else:\n",
    "        return y"
   ]
  },
  {
   "cell_type": "code",
   "execution_count": 28,
   "id": "37a81fd7",
   "metadata": {},
   "outputs": [
    {
     "name": "stdout",
     "output_type": "stream",
     "text": [
      "3\n"
     ]
    }
   ],
   "source": [
    "print(my_max(2,3))"
   ]
  },
  {
   "cell_type": "code",
   "execution_count": 30,
   "id": "de43101e",
   "metadata": {},
   "outputs": [],
   "source": [
    "# (b)\n",
    "\n",
    "def my_max(x,y):\n",
    "    if x>y:\n",
    "        return x\n",
    "    if x==y:\n",
    "        return x\n",
    "    if x<y:\n",
    "        return y"
   ]
  },
  {
   "cell_type": "code",
   "execution_count": 31,
   "id": "dda86de6",
   "metadata": {},
   "outputs": [
    {
     "data": {
      "text/plain": [
       "10"
      ]
     },
     "execution_count": 31,
     "metadata": {},
     "output_type": "execute_result"
    }
   ],
   "source": [
    "my_max(2,10)"
   ]
  },
  {
   "cell_type": "markdown",
   "id": "99eb7939",
   "metadata": {},
   "source": [
    "# Exercise 3.4: Primes"
   ]
  },
  {
   "cell_type": "code",
   "execution_count": 122,
   "id": "e74053e0",
   "metadata": {},
   "outputs": [],
   "source": [
    "# (a)\n",
    "\n",
    "def is_prime1(num):\n",
    "    if num < 2:\n",
    "        return False\n",
    "    for n in range(2,int(num/2)+1):\n",
    "        if num%n==0:\n",
    "            return False\n",
    "    return True"
   ]
  },
  {
   "cell_type": "code",
   "execution_count": 123,
   "id": "de49b17e",
   "metadata": {},
   "outputs": [
    {
     "data": {
      "text/plain": [
       "False"
      ]
     },
     "execution_count": 123,
     "metadata": {},
     "output_type": "execute_result"
    }
   ],
   "source": [
    "is_prime(12)"
   ]
  },
  {
   "cell_type": "code",
   "execution_count": 124,
   "id": "c3383392",
   "metadata": {},
   "outputs": [],
   "source": [
    "# (b)\n",
    "\n",
    "    \n",
    "def is_prime2(n):\n",
    "  \n",
    "    if n == 2 or n == 3:\n",
    "        return True\n",
    "    \n",
    "    if n % 2 == 0 or n % 3 == 0 or n <1:\n",
    "        return False\n",
    "    \n",
    "    #control of not divisible by 2 or 3\n",
    "    i = 5\n",
    "    while i * i <= n:  # 6k + 1 / 6k - 1 \n",
    "        if n % i == 0 or n % (i + 2) == 0:\n",
    "            return False\n",
    "        i += 6\n",
    "    return True\n",
    " \n",
    "    \n",
    "    # 11 13 17 19 23   skips  while loop and go directly to true \n",
    "    # n = 29 i = 5 25 <= 29  return true\n",
    "    "
   ]
  },
  {
   "cell_type": "code",
   "execution_count": 125,
   "id": "30a4b2ac",
   "metadata": {},
   "outputs": [
    {
     "data": {
      "text/plain": [
       "True"
      ]
     },
     "execution_count": 125,
     "metadata": {},
     "output_type": "execute_result"
    }
   ],
   "source": [
    "is_prime2(29)"
   ]
  },
  {
   "cell_type": "code",
   "execution_count": 126,
   "id": "06675d6a",
   "metadata": {},
   "outputs": [],
   "source": [
    "# (c)\n",
    "\n",
    "\n",
    "def is_prime3(num):\n",
    "    start = 2\n",
    "    upTo = num\n",
    "\n",
    "    print(\"Prime numbers upTo \" + str (num))\n",
    "\n",
    "    for num in range(start, upTo + 1):\n",
    "       if num > 1:\n",
    "           for i in range(2, num):\n",
    "               if (num % i) == 0:\n",
    "                   break\n",
    "           else:\n",
    "               print(num)\n"
   ]
  },
  {
   "cell_type": "code",
   "execution_count": 127,
   "id": "36a14901",
   "metadata": {},
   "outputs": [
    {
     "name": "stdout",
     "output_type": "stream",
     "text": [
      "Prime numbers upTo 19\n",
      "2\n",
      "3\n",
      "5\n",
      "7\n",
      "11\n",
      "13\n",
      "17\n",
      "19\n"
     ]
    }
   ],
   "source": [
    "is_prime3(19)"
   ]
  },
  {
   "cell_type": "code",
   "execution_count": 29,
   "id": "7b95cdba",
   "metadata": {},
   "outputs": [],
   "source": [
    "# (d)\n",
    "\n",
    "def primeCounter(x):\n",
    "    prime=2\n",
    "    counter = 0\n",
    "\n",
    "    while (counter < x):\n",
    "        if all(prime%j!=0 for j in range(2, prime)):\n",
    "            counter+=1\n",
    "            print(str (counter) + \" th prime : \" + str(prime) )\n",
    "        prime+=1"
   ]
  },
  {
   "cell_type": "code",
   "execution_count": 30,
   "id": "fac27ee9",
   "metadata": {},
   "outputs": [
    {
     "name": "stdout",
     "output_type": "stream",
     "text": [
      "1 th prime : 2\n",
      "2 th prime : 3\n",
      "3 th prime : 5\n",
      "4 th prime : 7\n",
      "5 th prime : 11\n",
      "6 th prime : 13\n",
      "7 th prime : 17\n",
      "8 th prime : 19\n",
      "9 th prime : 23\n",
      "10 th prime : 29\n"
     ]
    }
   ],
   "source": [
    "primeCounter(10)"
   ]
  },
  {
   "cell_type": "markdown",
   "id": "9bd5811a",
   "metadata": {},
   "source": [
    "# Exercise 3.5: Root finding"
   ]
  },
  {
   "cell_type": "code",
   "execution_count": 2,
   "id": "af3e83eb",
   "metadata": {},
   "outputs": [],
   "source": [
    "# a\n",
    "\n",
    "def rootA (a,b):\n",
    "    if a > b :\n",
    "        mid = (a-b)/2 + b\n",
    "        return mid ** 0.5\n",
    "    if b > a :\n",
    "        mid = (b - a ) / 2 + a\n",
    "        return mid ** 0.5\n",
    "    if a == b:\n",
    "        return a ** 0.5\n",
    "   \n",
    "\n"
   ]
  },
  {
   "cell_type": "code",
   "execution_count": 3,
   "id": "28425bc7",
   "metadata": {},
   "outputs": [
    {
     "data": {
      "text/plain": [
       "3.0"
      ]
     },
     "execution_count": 3,
     "metadata": {},
     "output_type": "execute_result"
    }
   ],
   "source": [
    "rootA (8,10)"
   ]
  },
  {
   "cell_type": "code",
   "execution_count": 143,
   "id": "26b68131",
   "metadata": {},
   "outputs": [],
   "source": [
    "# (b)\n",
    "def rootB (a,b):\n",
    "    mid = abs (a-b) / 2 + a \n",
    "    return mid ** 0.5"
   ]
  },
  {
   "cell_type": "code",
   "execution_count": 145,
   "id": "e2f9a757",
   "metadata": {},
   "outputs": [
    {
     "data": {
      "text/plain": [
       "3.0"
      ]
     },
     "execution_count": 145,
     "metadata": {},
     "output_type": "execute_result"
    }
   ],
   "source": [
    "root (8,10)"
   ]
  },
  {
   "cell_type": "code",
   "execution_count": 56,
   "id": "8f599d37",
   "metadata": {},
   "outputs": [],
   "source": [
    "#c\n",
    "\n",
    "def rootC (a,b):\n",
    "\n",
    "    if a > b and a>0 and b > 0:\n",
    "        mid = (a-b)/2 + b\n",
    "        return mid ** 0.5\n",
    "    if b > a and a >0 and b > 0:\n",
    "        mid = (b - a ) / 2 + a\n",
    "        return mid ** 0.5\n",
    "    if a < 0 and b <0 and a < b :                      \n",
    "        mid = (a-b) / 2 + b\n",
    "        return mid **0.5\n",
    "    if a < 0 and b <0 and b > a:\n",
    "            mid = (b-a)/2 + a \n",
    "            return mid "
   ]
  },
  {
   "cell_type": "code",
   "execution_count": 146,
   "id": "514210ae",
   "metadata": {},
   "outputs": [
    {
     "data": {
      "text/plain": [
       "3.0"
      ]
     },
     "execution_count": 146,
     "metadata": {},
     "output_type": "execute_result"
    }
   ],
   "source": [
    "rootC(8,10)"
   ]
  }
 ],
 "metadata": {
  "kernelspec": {
   "display_name": "Python 3 (ipykernel)",
   "language": "python",
   "name": "python3"
  },
  "language_info": {
   "codemirror_mode": {
    "name": "ipython",
    "version": 3
   },
   "file_extension": ".py",
   "mimetype": "text/x-python",
   "name": "python",
   "nbconvert_exporter": "python",
   "pygments_lexer": "ipython3",
   "version": "3.9.7"
  }
 },
 "nbformat": 4,
 "nbformat_minor": 5
}
