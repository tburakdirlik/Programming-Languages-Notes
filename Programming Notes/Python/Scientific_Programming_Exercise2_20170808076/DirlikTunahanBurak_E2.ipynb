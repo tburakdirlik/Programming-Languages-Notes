{
 "cells": [
  {
   "cell_type": "markdown",
   "id": "861ec869",
   "metadata": {},
   "source": [
    "# 4 Lists\n",
    "## Exercise 4.1: Short questions"
   ]
  },
  {
   "cell_type": "code",
   "execution_count": 2,
   "id": "af310c6e",
   "metadata": {},
   "outputs": [
    {
     "name": "stdout",
     "output_type": "stream",
     "text": [
      "a\n",
      "b\n",
      "c\n",
      "d\n",
      "e\n",
      "f\n"
     ]
    }
   ],
   "source": [
    "# a \n",
    "\n",
    "my_list = [\"a\",\"b\",\"c\",\"d\",\"e\",\"f\"]\n",
    "\n",
    "for i in my_list:\n",
    "    print (i)"
   ]
  },
  {
   "cell_type": "code",
   "execution_count": 4,
   "id": "5d25610e",
   "metadata": {},
   "outputs": [
    {
     "name": "stdout",
     "output_type": "stream",
     "text": [
      "f\n",
      "e\n",
      "d\n",
      "c\n",
      "b\n",
      "a\n"
     ]
    }
   ],
   "source": [
    "# b \n",
    "\n",
    "my_list.reverse()\n",
    "for i in my_list:\n",
    "    print (i)\n"
   ]
  },
  {
   "cell_type": "code",
   "execution_count": 2,
   "id": "4f4faef9",
   "metadata": {},
   "outputs": [
    {
     "data": {
      "text/plain": [
       "6"
      ]
     },
     "execution_count": 2,
     "metadata": {},
     "output_type": "execute_result"
    }
   ],
   "source": [
    "# c\n",
    "alph = [\"a\",\"b\",\"c\",\"d\",\"e\",\"f\"]\n",
    "def len (liste):\n",
    "    length = 0\n",
    "    for x in liste:\n",
    "        length = length + 1\n",
    "    return length\n",
    "    \n",
    "len(alph)"
   ]
  },
  {
   "cell_type": "markdown",
   "id": "f5337aab",
   "metadata": {},
   "source": [
    "# Exercise 4.2: Copying lists"
   ]
  },
  {
   "cell_type": "code",
   "execution_count": 27,
   "id": "6e8d08ac",
   "metadata": {},
   "outputs": [],
   "source": [
    "# a\n",
    "\n",
    "a = [0,1,2,3,4,5,6,7,8,9]"
   ]
  },
  {
   "cell_type": "code",
   "execution_count": 28,
   "id": "8dc6e820",
   "metadata": {},
   "outputs": [],
   "source": [
    "# b\n",
    "\n",
    "b = a"
   ]
  },
  {
   "cell_type": "code",
   "execution_count": 29,
   "id": "76179965",
   "metadata": {},
   "outputs": [
    {
     "data": {
      "text/plain": [
       "1"
      ]
     },
     "execution_count": 29,
     "metadata": {},
     "output_type": "execute_result"
    }
   ],
   "source": [
    "# c \n",
    "\n",
    "b[1]"
   ]
  },
  {
   "cell_type": "code",
   "execution_count": 31,
   "id": "0dd6fe61",
   "metadata": {},
   "outputs": [],
   "source": [
    "# d \n",
    "\n",
    "# a does not changed, a copied to b "
   ]
  },
  {
   "cell_type": "code",
   "execution_count": 32,
   "id": "d2778bdb",
   "metadata": {},
   "outputs": [],
   "source": [
    "# e \n",
    "\n",
    "c = a[:]"
   ]
  },
  {
   "cell_type": "code",
   "execution_count": 34,
   "id": "13bc733b",
   "metadata": {},
   "outputs": [
    {
     "data": {
      "text/plain": [
       "2"
      ]
     },
     "execution_count": 34,
     "metadata": {},
     "output_type": "execute_result"
    }
   ],
   "source": [
    "# f \n",
    "\n",
    "c[2]"
   ]
  },
  {
   "cell_type": "code",
   "execution_count": 35,
   "id": "e59f9ccf",
   "metadata": {},
   "outputs": [
    {
     "data": {
      "text/plain": [
       "[0, 1, 2, 3, 4, 5, 6, 7, 8, 9]"
      ]
     },
     "execution_count": 35,
     "metadata": {},
     "output_type": "execute_result"
    }
   ],
   "source": [
    "# g \n",
    "\n",
    "# a does not changed "
   ]
  },
  {
   "cell_type": "code",
   "execution_count": 5,
   "id": "29a459c0",
   "metadata": {},
   "outputs": [
    {
     "name": "stdout",
     "output_type": "stream",
     "text": [
      "[9, 8, 7, 6, 5, 4, 3, 2, 1, 0]\n",
      "[0, 8, 7, 6, 5, 4, 3, 2, 1, 0]\n"
     ]
    }
   ],
   "source": [
    "numList = [9,8,7,6,5,4,3,2,1,0]\n",
    "print(numList)\n",
    "def set_first_elem_to_zero(l):\n",
    "    l[0] = 0\n",
    "    return l\n",
    "\n",
    "print(set_first_elem_to_zero(numList))\n",
    "\n",
    "\n",
    "# original list changed"
   ]
  },
  {
   "cell_type": "markdown",
   "id": "9af0219e",
   "metadata": {},
   "source": [
    "# Exercise 4.3: Lists of lists"
   ]
  },
  {
   "cell_type": "code",
   "execution_count": 318,
   "id": "02fb19c2",
   "metadata": {},
   "outputs": [
    {
     "name": "stdout",
     "output_type": "stream",
     "text": [
      "[[], [], []]\n",
      "[[], [], []]\n"
     ]
    }
   ],
   "source": [
    "# a \n",
    "\n",
    "a = [[]] * 3\n",
    "b = [[] for _ in range(3)]\n",
    "\n",
    "print(a)\n",
    "print(b)\n",
    "\n",
    "# in python 3 xrange is removed but instead of there is a range function\n",
    "# for both xrange and range result is same this editor using python 3 so that I used range function\n",
    "\n",
    "# result: results of a and b are same"
   ]
  },
  {
   "cell_type": "markdown",
   "id": "f00805a4",
   "metadata": {},
   "source": [
    "# Exercise 4.4: Lists and functions"
   ]
  },
  {
   "cell_type": "code",
   "execution_count": 61,
   "id": "8db4e237",
   "metadata": {},
   "outputs": [
    {
     "name": "stdout",
     "output_type": "stream",
     "text": [
      "[0, 1, 2, 3, 4, 5, 6, 7, 8, 9]\n"
     ]
    },
    {
     "data": {
      "text/plain": [
       "[0, 1, 2, 3, 4, 5, 6, 7, 8, 0]"
      ]
     },
     "execution_count": 61,
     "metadata": {},
     "output_type": "execute_result"
    }
   ],
   "source": [
    "numList = [0, 1, 2, 3, 4, 5, 6, 7, 8, 9]\n",
    "\n",
    "def takeListandIndex(liste, index):\n",
    "    liste[index] = 0\n",
    "    return liste\n",
    "\n",
    "print(numList[:])\n",
    "takeListandIndex(numList, 9)"
   ]
  },
  {
   "cell_type": "markdown",
   "id": "05335309",
   "metadata": {},
   "source": [
    "# Exercise 4.5: Primes"
   ]
  },
  {
   "cell_type": "code",
   "execution_count": 65,
   "id": "39567637",
   "metadata": {},
   "outputs": [
    {
     "name": "stdout",
     "output_type": "stream",
     "text": [
      "Prime numbers upTo 13\n"
     ]
    },
    {
     "data": {
      "text/plain": [
       "[2, 3, 5, 7, 11, 13]"
      ]
     },
     "execution_count": 65,
     "metadata": {},
     "output_type": "execute_result"
    }
   ],
   "source": [
    "# a-1\n",
    "\n",
    "\n",
    "def is_prime(num):\n",
    "    start = 2\n",
    "    upTo = num\n",
    "    liste = []\n",
    "    print(\"Prime numbers upTo \" + str (num))\n",
    "\n",
    "    for num in range(start, upTo + 1):\n",
    "       if num > 1:\n",
    "           for i in range(2, num):\n",
    "               if (num % i) == 0:\n",
    "                   break\n",
    "           else:\n",
    "                liste.append(num)\n",
    "    return liste\n",
    "\n",
    "is_prime(13)"
   ]
  },
  {
   "cell_type": "code",
   "execution_count": 154,
   "id": "2eee7be9",
   "metadata": {},
   "outputs": [
    {
     "data": {
      "text/plain": [
       "[2, 3, 5]"
      ]
     },
     "execution_count": 154,
     "metadata": {},
     "output_type": "execute_result"
    }
   ],
   "source": [
    "# a-2\n",
    "\n",
    "def primeCounter(x):\n",
    "    prime=2\n",
    "    counter = 0\n",
    "    liste = [] \n",
    "\n",
    "    while (counter < x):\n",
    "        if all(prime%j!=0 for j in range(2, prime)):\n",
    "            counter+=1\n",
    "            liste.append(prime)\n",
    "        prime+=1\n",
    "    return liste\n",
    "\n",
    "primeCounter(3)"
   ]
  },
  {
   "cell_type": "markdown",
   "id": "067be302",
   "metadata": {},
   "source": [
    "# Exercise 4.6: List comprehensions"
   ]
  },
  {
   "cell_type": "code",
   "execution_count": 3,
   "id": "dff9e7d2",
   "metadata": {},
   "outputs": [
    {
     "name": "stdout",
     "output_type": "stream",
     "text": [
      "[[1, 1], [2, 2], [3, 3], [4, 4], [5, 5]]\n"
     ]
    }
   ],
   "source": [
    "# a\n",
    "matrix = [[i for j in range(2)] for i in range(1,6)]\n",
    "  \n",
    "print(matrix)\n",
    "        "
   ]
  },
  {
   "cell_type": "code",
   "execution_count": 4,
   "id": "759c39d3",
   "metadata": {},
   "outputs": [
    {
     "name": "stdout",
     "output_type": "stream",
     "text": [
      "[[1, 2], [2, 3], [3, 4], [4, 5]]\n"
     ]
    }
   ],
   "source": [
    "# b \n",
    "\n",
    "matrix = [[i for j in range(2)] for i in range(2,6)]\n",
    "  \n",
    "for i in matrix:\n",
    "    i [0] -=1 \n",
    "print(matrix)"
   ]
  },
  {
   "cell_type": "code",
   "execution_count": 33,
   "id": "dee7e6b7",
   "metadata": {},
   "outputs": [
    {
     "name": "stdout",
     "output_type": "stream",
     "text": [
      "list_i   [7, 11, 13]\n",
      "list_j   [2, 3, 5]\n",
      "lastlist [9, 14, 18]\n"
     ]
    }
   ],
   "source": [
    "# c\n",
    "\n",
    "def is_prime(num):\n",
    "    start = 2\n",
    "    upTo = num\n",
    "    liste = []\n",
    "    \n",
    "\n",
    "    for num in range(start, upTo + 1):\n",
    "       if num > 1:\n",
    "           for i in range(2, num):\n",
    "               if (num % i) == 0:\n",
    "                   break\n",
    "           else:\n",
    "                liste.append(num)\n",
    "    return liste\n",
    "\n",
    "list_i = []\n",
    "list_j = []\n",
    "list_k = is_prime(13)\n",
    "length = len(list_k)\n",
    "middle_index = length//2\n",
    "list_j = list_k[:middle_index]\n",
    "list_i = list_k[middle_index:]\n",
    "zipped_lists = zip(list_i, list_j)\n",
    "\n",
    "\n",
    "lastlist = [x + y for (x, y) in zipped_lists]\n",
    "lastlist\n",
    "print(\"list_i   \" + str(list_i))\n",
    "print(\"list_j   \" + str(list_j))\n",
    "print(\"lastlist \" + str(lastlist))\n"
   ]
  },
  {
   "cell_type": "markdown",
   "id": "32e8e75b",
   "metadata": {},
   "source": [
    "# Exercise 4.8: Flatten a list of lists"
   ]
  },
  {
   "cell_type": "code",
   "execution_count": 40,
   "id": "e0ae49dc",
   "metadata": {},
   "outputs": [
    {
     "name": "stdout",
     "output_type": "stream",
     "text": [
      "[[1, 2], [2, 3], [3, 4], [4, 5]]\n"
     ]
    },
    {
     "data": {
      "text/plain": [
       "[1, 2, 2, 3, 3, 4, 4, 5]"
      ]
     },
     "execution_count": 40,
     "metadata": {},
     "output_type": "execute_result"
    }
   ],
   "source": [
    "def flattenlist(list):\n",
    "    newlist = []\n",
    "    for i in list:\n",
    "        newlist.append(i[0])\n",
    "        newlist.append(i[1])\n",
    "    return newlist\n",
    "        \n",
    "\n",
    "passedList = matrix\n",
    "print (matrix)\n",
    "flattenlist(passedList)"
   ]
  },
  {
   "cell_type": "markdown",
   "id": "d2c7c6d8",
   "metadata": {},
   "source": [
    "# Exercise 4.9: Finding the longest word"
   ]
  },
  {
   "cell_type": "code",
   "execution_count": 8,
   "id": "5e0fc91b",
   "metadata": {},
   "outputs": [
    {
     "name": "stdout",
     "output_type": "stream",
     "text": [
      "Please enter a text: tunahan burak dirlik akdeniz üniversitesi\n",
      "Longest word is:  üniversitesi\n"
     ]
    }
   ],
   "source": [
    "text = input(\"Please enter a text: \")\n",
    "longestword = max(text.split())\n",
    "print(\"Longest word is: \", longestword)\n"
   ]
  },
  {
   "cell_type": "markdown",
   "id": "419283dd",
   "metadata": {},
   "source": [
    "# Exercise 4.10: Collatz sequence, part 2\n"
   ]
  },
  {
   "cell_type": "code",
   "execution_count": 227,
   "id": "7233d8cd",
   "metadata": {},
   "outputs": [
    {
     "data": {
      "text/plain": [
       "[9,\n",
       " 28,\n",
       " 14.0,\n",
       " 7.0,\n",
       " 22.0,\n",
       " 11.0,\n",
       " 34.0,\n",
       " 17.0,\n",
       " 52.0,\n",
       " 26.0,\n",
       " 13.0,\n",
       " 40.0,\n",
       " 20.0,\n",
       " 10.0,\n",
       " 5.0,\n",
       " 16.0,\n",
       " 8.0,\n",
       " 4.0,\n",
       " 2.0,\n",
       " 1.0]"
      ]
     },
     "execution_count": 227,
     "metadata": {},
     "output_type": "execute_result"
    }
   ],
   "source": [
    "# a\n",
    "\n",
    "def collatzSeq (num):\n",
    "    liste = []\n",
    "    liste.append(num)\n",
    "    \n",
    "    while num !=1:\n",
    "        if num % 2 == 0:\n",
    "            num = num /2\n",
    "            if num == 1:\n",
    "                liste.append(num)\n",
    "                break\n",
    "            liste.append(num) \n",
    "        if num % 2 == 1:\n",
    "            num = 3 * num + 1\n",
    "            if num == 1:\n",
    "                liste.append(num)\n",
    "                break\n",
    "            liste.append(num)\n",
    "    return liste\n",
    "\n",
    "collatzSeq(9)"
   ]
  },
  {
   "cell_type": "code",
   "execution_count": 222,
   "id": "e5fd136c",
   "metadata": {},
   "outputs": [
    {
     "data": {
      "text/plain": [
       "[9,\n",
       " 28,\n",
       " 14.0,\n",
       " 7.0,\n",
       " 22.0,\n",
       " 11.0,\n",
       " 34.0,\n",
       " 17.0,\n",
       " 52.0,\n",
       " 26.0,\n",
       " 13.0,\n",
       " 40.0,\n",
       " 20.0,\n",
       " 10.0,\n",
       " 5.0,\n",
       " 16.0,\n",
       " 8.0,\n",
       " 4.0,\n",
       " 2.0,\n",
       " 1.0]"
      ]
     },
     "execution_count": 222,
     "metadata": {},
     "output_type": "execute_result"
    }
   ],
   "source": [
    "# b\n",
    "\n",
    "## bi tane uzunlukları tutan liste oluştur \n",
    "## normal metodu for döngüsü içine al \n",
    "## bulduğu listenin uzunluğunu uzunlukları tutan listeye ekle \n",
    "\n",
    "def collatzSeq (num):\n",
    "    liste = []\n",
    "    liste.append(num)\n",
    "    \n",
    "    while num !=1:\n",
    "        if num % 2 == 0:\n",
    "            num = num /2\n",
    "            if num == 1:\n",
    "                liste.append(num)\n",
    "                break\n",
    "            liste.append(num) \n",
    "        if num % 2 == 1:\n",
    "            num = 3 * num + 1\n",
    "            if num == 1:\n",
    "                liste.append(num)\n",
    "                break\n",
    "            liste.append(num)\n",
    "    return liste\n",
    "\n",
    "def longest(num):\n",
    "    lenlist = []\n",
    "    lenlist.append(0)\n",
    "    for i in range (1, num):\n",
    "        lenlist.append((len(collatzSeq(i))))\n",
    "    \n",
    "    element =  max(lenlist)\n",
    "    return collatzSeq(lenlist.index(element))\n",
    "    \n",
    "longest(10)"
   ]
  },
  {
   "cell_type": "markdown",
   "id": "3024e53c",
   "metadata": {},
   "source": [
    "# Exercise 4.11: Pivots"
   ]
  },
  {
   "cell_type": "code",
   "execution_count": 46,
   "id": "e925c95f",
   "metadata": {},
   "outputs": [],
   "source": [
    "# f(3, [6, 4, 1, 7]) should be [1, 3, 6, 4, 7]"
   ]
  },
  {
   "cell_type": "code",
   "execution_count": 51,
   "id": "9e1a50f6",
   "metadata": {},
   "outputs": [
    {
     "data": {
      "text/plain": [
       "[1, 3, 6, 4, 7]"
      ]
     },
     "execution_count": 51,
     "metadata": {},
     "output_type": "execute_result"
    }
   ],
   "source": [
    "liste = [6, 4, 1, 7]\n",
    "\n",
    "def pivot (num, liste):\n",
    "    beforelist = [] \n",
    "    afterlist = []\n",
    "    lastlist = []\n",
    "    \n",
    "    for i in liste:\n",
    "        if i< num:\n",
    "            lastlist.append(i)\n",
    "    lastlist.append(num)\n",
    "    \n",
    "    for i in liste:\n",
    "        if i>num:\n",
    "            lastlist.append(i)\n",
    "    return lastlist\n",
    "\n",
    "pivot(3,liste)"
   ]
  },
  {
   "cell_type": "markdown",
   "id": "d475fa44",
   "metadata": {},
   "source": [
    "# 5 Tuples\n",
    "# Exercise 5.1: Swapping two values"
   ]
  },
  {
   "cell_type": "code",
   "execution_count": 232,
   "id": "81154b92",
   "metadata": {},
   "outputs": [
    {
     "name": "stdout",
     "output_type": "stream",
     "text": [
      "10\n",
      "5\n",
      "5\n",
      "10\n"
     ]
    }
   ],
   "source": [
    "\n",
    "a = 10\n",
    "b = 5\n",
    "\n",
    "print (a)\n",
    "print (b)\n",
    "\n",
    "a, b = b, a    ## this line\n",
    "\n",
    "print (a)\n",
    "print (b)"
   ]
  },
  {
   "cell_type": "markdown",
   "id": "c5727d48",
   "metadata": {},
   "source": [
    "# Exercise 5.2: Zip"
   ]
  },
  {
   "cell_type": "code",
   "execution_count": 277,
   "id": "947dd75c",
   "metadata": {},
   "outputs": [
    {
     "name": "stdout",
     "output_type": "stream",
     "text": [
      "((0, 3), (1, 2), (2, 1), (3, 0))\n",
      "(0, 1, 2, 3)\n",
      "(3, 2, 1, 0)\n"
     ]
    }
   ],
   "source": [
    "x = [0,1,2,3]\n",
    "y = [3,2,1,0]\n",
    "\n",
    "coordinates =  tuple(zip(x, y))\n",
    "\n",
    "print (coordinates)\n",
    "\n",
    "X, Y = zip(*coordinates)\n",
    "\n",
    "print (X)\n",
    "print (Y)"
   ]
  },
  {
   "cell_type": "markdown",
   "id": "176740bb",
   "metadata": {},
   "source": [
    "# Exercise 5.3: Distances"
   ]
  },
  {
   "cell_type": "code",
   "execution_count": 276,
   "id": "836e0f73",
   "metadata": {},
   "outputs": [
    {
     "name": "stdout",
     "output_type": "stream",
     "text": [
      "5.0\n",
      "13.0\n",
      "10.0\n",
      "17.0\n"
     ]
    }
   ],
   "source": [
    "X = ((0, 0), (0, 0), (0, 0), (0, 0))\n",
    "Y = ((3, 4), (5, 12), (6, 8), (8, 15))\n",
    "\n",
    "def findDistance(X,Y):\n",
    "    for i in range (0, len(X)):\n",
    "        xdistance = Y[i][0] - X[i][0]\n",
    "        ydistance = Y[i][1] - X[i][1]\n",
    "        print ((xdistance*xdistance + ydistance*ydistance) ** 0.5) \n",
    "\n",
    "findDistance(X,Y)"
   ]
  },
  {
   "cell_type": "markdown",
   "id": "0b831bb8",
   "metadata": {},
   "source": [
    "# 6 Dictionaries\n",
    "Exercise 6.1: Printing a dictionary"
   ]
  },
  {
   "cell_type": "code",
   "execution_count": 281,
   "id": "e2c65ced",
   "metadata": {},
   "outputs": [
    {
     "name": "stdout",
     "output_type": "stream",
     "text": [
      "{'dolar': 14.5, 'ruble ': 0.13, 'euro': 16.47}\n"
     ]
    }
   ],
   "source": [
    "dict = {\n",
    "  \"dolar\": 14.5,\n",
    "  \"ruble \": 0.13,\n",
    "  \"euro\": 16.47\n",
    "}\n",
    "print(dict)"
   ]
  },
  {
   "cell_type": "markdown",
   "id": "5005b240",
   "metadata": {},
   "source": [
    "# Exercise 6.2: Histogram\n"
   ]
  },
  {
   "cell_type": "code",
   "execution_count": 24,
   "id": "1c4f79d7",
   "metadata": {},
   "outputs": [
    {
     "name": "stdout",
     "output_type": "stream",
     "text": [
      "{1: 3, 2: 2, 3: 1, 4: 2, 5: 4}\n",
      "Counter({5: 4, 1: 3, 2: 2, 4: 2, 3: 1})\n"
     ]
    }
   ],
   "source": [
    "def occurance(liste):     \n",
    "\n",
    "    occurancedict = {}\n",
    "    for i in liste:\n",
    "        occurancedict[i] = liste.count(i)\n",
    "    print(occurancedict)\n",
    "    \n",
    "liste = [1,1,1,2,2,3,4,4,5,5,5,5,]\n",
    "occurance(liste)\n",
    "\n",
    "###\n",
    "\n",
    "import collections\n",
    "\n",
    "print (collections.Counter(liste))"
   ]
  },
  {
   "cell_type": "markdown",
   "id": "fa5c5046",
   "metadata": {},
   "source": [
    "# Exercise 6.3: Get method"
   ]
  },
  {
   "cell_type": "code",
   "execution_count": 39,
   "id": "8bebd28b",
   "metadata": {},
   "outputs": [
    {
     "name": "stdout",
     "output_type": "stream",
     "text": [
      "{1: 3, 2: 2, 3: 1, 4: 2, 5: 4}\n"
     ]
    }
   ],
   "source": [
    "def occurance2(liste):\n",
    "    occurancedict = {}\n",
    "    for element in liste:\n",
    "        occurancedict[element] = occurancedict.get(element, 0) + 1\n",
    "    print(occurancedict)\n",
    "    \n",
    "liste = [1,1,1,2,2,3,4,4,5,5,5,5,]\n",
    "occurance2(liste)"
   ]
  },
  {
   "cell_type": "markdown",
   "id": "3c73e9ac",
   "metadata": {},
   "source": [
    "# Exercise 6.5: Vector functions"
   ]
  },
  {
   "cell_type": "code",
   "execution_count": 16,
   "id": "ebbff6f2",
   "metadata": {},
   "outputs": [
    {
     "data": {
      "text/plain": [
       "array([[2, 4, 6],\n",
       "       [6, 4, 2]])"
      ]
     },
     "execution_count": 16,
     "metadata": {},
     "output_type": "execute_result"
    }
   ],
   "source": [
    "# a\n",
    "import numpy as np\n",
    "\n",
    "def vectorAddition(a,b):    \n",
    "    return a+b\n",
    "\n",
    "a = np.array([[1, 2, 3],\n",
    "              [3, 2, 1]])\n",
    "\n",
    "b = np.array([[1, 2, 3],\n",
    "              [3, 2, 1]])\n",
    "\n",
    "vectorAddition(a,b)"
   ]
  },
  {
   "cell_type": "code",
   "execution_count": 17,
   "id": "3fd12573",
   "metadata": {},
   "outputs": [
    {
     "data": {
      "text/plain": [
       "array([[14, 10],\n",
       "       [10, 14]])"
      ]
     },
     "execution_count": 17,
     "metadata": {},
     "output_type": "execute_result"
    }
   ],
   "source": [
    "# b\n",
    "\n",
    "import numpy as np\n",
    "\n",
    "def innerproduct(a,b):    \n",
    "    return np.inner(a,b)\n",
    "    \n",
    "innerproduct(a,b)"
   ]
  },
  {
   "cell_type": "code",
   "execution_count": 26,
   "id": "b19b70a6",
   "metadata": {},
   "outputs": [
    {
     "data": {
      "text/plain": [
       "[[0, 0, 0, 0, 0], [2, 2, 2, 2, 2], [0, 0, 0, 0, 0], [2, 2, 2, 2, 2]]"
      ]
     },
     "execution_count": 26,
     "metadata": {},
     "output_type": "execute_result"
    }
   ],
   "source": [
    "# c\n",
    "\n",
    "A = [[0, 0, 0, 0, 0],\n",
    "       [2, 2, 2, 2, 2]\n",
    "      ]\n",
    "       \n",
    "B = [[0, 0, 0, 0, 0],\n",
    "       [2, 2, 2, 2, 2]\n",
    "      ]\n",
    "A+B\n"
   ]
  },
  {
   "cell_type": "code",
   "execution_count": 29,
   "id": "edcb865f",
   "metadata": {},
   "outputs": [
    {
     "data": {
      "text/plain": [
       "20"
      ]
     },
     "execution_count": 29,
     "metadata": {},
     "output_type": "execute_result"
    }
   ],
   "source": [
    "# d \n",
    "\n",
    "import numpy as np\n",
    "\n",
    "def multiplyVector(A,B):\n",
    "    return np.vdot(A,B)\n",
    "\n",
    "multiplyVector(A,B)"
   ]
  },
  {
   "cell_type": "markdown",
   "id": "9b720a48",
   "metadata": {},
   "source": [
    "# Exercise 6.6: Reverse look-up\n"
   ]
  },
  {
   "cell_type": "code",
   "execution_count": 309,
   "id": "17a19a0c",
   "metadata": {},
   "outputs": [
    {
     "name": "stdout",
     "output_type": "stream",
     "text": [
      "c\n"
     ]
    }
   ],
   "source": [
    "def reverseLook(dict, value):\n",
    "\n",
    "    reversed_dictionary = {value : key for (key, value) in dict.items()}\n",
    "    print (reversed_dictionary[value])\n",
    "\n",
    "    \n",
    "dictionary = {\"a\": 1, \"b\": 2, \"c\":3}\n",
    "reverseLook(dictionary, 3)"
   ]
  }
 ],
 "metadata": {
  "kernelspec": {
   "display_name": "Python 3 (ipykernel)",
   "language": "python",
   "name": "python3"
  },
  "language_info": {
   "codemirror_mode": {
    "name": "ipython",
    "version": 3
   },
   "file_extension": ".py",
   "mimetype": "text/x-python",
   "name": "python",
   "nbconvert_exporter": "python",
   "pygments_lexer": "ipython3",
   "version": "3.9.7"
  }
 },
 "nbformat": 4,
 "nbformat_minor": 5
}
