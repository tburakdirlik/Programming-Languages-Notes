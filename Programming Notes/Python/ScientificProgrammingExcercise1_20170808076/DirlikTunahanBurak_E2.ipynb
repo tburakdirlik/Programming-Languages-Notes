{
 "cells": [
  {
   "cell_type": "markdown",
   "id": "590a14f5",
   "metadata": {},
   "source": [
    "# 2 Control flow"
   ]
  },
  {
   "cell_type": "markdown",
   "id": "b5df24a8",
   "metadata": {},
   "source": [
    "## Exercise 2.1: Range"
   ]
  },
  {
   "cell_type": "code",
   "execution_count": 1,
   "id": "4f6cda6a",
   "metadata": {},
   "outputs": [
    {
     "data": {
      "text/plain": [
       "range(0, 5)"
      ]
     },
     "execution_count": 1,
     "metadata": {},
     "output_type": "execute_result"
    }
   ],
   "source": [
    "range(5)"
   ]
  },
  {
   "cell_type": "code",
   "execution_count": 2,
   "id": "bcf3d202",
   "metadata": {},
   "outputs": [
    {
     "data": {
      "text/plain": [
       "range"
      ]
     },
     "execution_count": 2,
     "metadata": {},
     "output_type": "execute_result"
    }
   ],
   "source": [
    "type(range(5))"
   ]
  },
  {
   "cell_type": "markdown",
   "id": "85a0d0b7",
   "metadata": {},
   "source": [
    "## Exercise 2.2: For loops"
   ]
  },
  {
   "cell_type": "code",
   "execution_count": 5,
   "id": "41cc8a9b",
   "metadata": {},
   "outputs": [
    {
     "name": "stdout",
     "output_type": "stream",
     "text": [
      "0\n",
      "1\n",
      "2\n",
      "3\n",
      "4\n",
      "5\n",
      "6\n",
      "7\n",
      "8\n",
      "9\n",
      "10\n",
      "11\n",
      "12\n",
      "13\n",
      "14\n",
      "15\n",
      "16\n",
      "17\n",
      "18\n",
      "19\n",
      "20\n",
      "21\n",
      "22\n",
      "23\n",
      "24\n",
      "25\n",
      "26\n",
      "27\n",
      "28\n",
      "29\n",
      "30\n",
      "31\n",
      "32\n",
      "33\n",
      "34\n",
      "35\n",
      "36\n",
      "37\n",
      "38\n",
      "39\n",
      "40\n",
      "41\n",
      "42\n",
      "43\n",
      "44\n",
      "45\n",
      "46\n",
      "47\n",
      "48\n",
      "49\n",
      "50\n",
      "51\n",
      "52\n",
      "53\n",
      "54\n",
      "55\n",
      "56\n",
      "57\n",
      "58\n",
      "59\n",
      "60\n",
      "61\n",
      "62\n",
      "63\n",
      "64\n",
      "65\n",
      "66\n",
      "67\n",
      "68\n",
      "69\n",
      "70\n",
      "71\n",
      "72\n",
      "73\n",
      "74\n",
      "75\n",
      "76\n",
      "77\n",
      "78\n",
      "79\n",
      "80\n",
      "81\n",
      "82\n",
      "83\n",
      "84\n",
      "85\n",
      "86\n",
      "87\n",
      "88\n",
      "89\n",
      "90\n",
      "91\n",
      "92\n",
      "93\n",
      "94\n",
      "95\n",
      "96\n",
      "97\n",
      "98\n",
      "99\n"
     ]
    }
   ],
   "source": [
    "# (a)\n",
    "for number in list(range(100)):\n",
    "    print (number)"
   ]
  },
  {
   "cell_type": "code",
   "execution_count": 8,
   "id": "449be97b",
   "metadata": {},
   "outputs": [
    {
     "name": "stdout",
     "output_type": "stream",
     "text": [
      "0\n",
      "7\n",
      "14\n",
      "21\n",
      "28\n",
      "35\n",
      "42\n",
      "49\n",
      "56\n",
      "63\n",
      "70\n",
      "77\n",
      "84\n",
      "91\n",
      "98\n"
     ]
    }
   ],
   "source": [
    "# (b)\n",
    "for number in list(range(100)):\n",
    "    if number % 7 == 0:\n",
    "        print(number)"
   ]
  },
  {
   "cell_type": "code",
   "execution_count": 10,
   "id": "c4445e62",
   "metadata": {},
   "outputs": [
    {
     "name": "stdout",
     "output_type": "stream",
     "text": [
      "5\n",
      "10\n",
      "20\n",
      "25\n",
      "35\n",
      "40\n",
      "50\n",
      "55\n",
      "65\n",
      "70\n",
      "80\n",
      "85\n",
      "95\n"
     ]
    }
   ],
   "source": [
    "# (c)\n",
    "for number in list(range(100)):\n",
    "    if number % 5 == 0 and number % 15 !=0:\n",
    "        print(number)"
   ]
  },
  {
   "cell_type": "code",
   "execution_count": 1,
   "id": "f283ab7b",
   "metadata": {},
   "outputs": [
    {
     "name": "stdout",
     "output_type": "stream",
     "text": [
      "2 ==> []\n",
      "3 ==> []\n",
      "4 ==> [2]\n",
      "5 ==> []\n",
      "6 ==> [2, 3]\n",
      "7 ==> []\n",
      "8 ==> [2, 4]\n",
      "9 ==> [3]\n",
      "10 ==> [2, 5]\n",
      "11 ==> []\n",
      "12 ==> [2, 3, 4, 6]\n",
      "13 ==> []\n",
      "14 ==> [2, 7]\n",
      "15 ==> [3, 5]\n",
      "16 ==> [2, 4, 8]\n",
      "17 ==> []\n",
      "18 ==> [2, 3, 6, 9]\n",
      "19 ==> []\n",
      "20 ==> [2, 4, 5, 10]\n"
     ]
    }
   ],
   "source": [
    "# (d)\n",
    "dividerlist = list(range(0))\n",
    "for number in list(range(2,21)):\n",
    "    for divider in list (range(2,number)):\n",
    "        if number % divider == 0:\n",
    "            dividerlist.append(divider)\n",
    "    print(str(number) + \" ==> \"+ str(dividerlist)) \n",
    "    dividerlist.clear()"
   ]
  },
  {
   "cell_type": "markdown",
   "id": "e94a2cd6",
   "metadata": {},
   "source": [
    "# Exercise 2.3: Simple while loops"
   ]
  },
  {
   "cell_type": "code",
   "execution_count": 3,
   "id": "2376c388",
   "metadata": {},
   "outputs": [
    {
     "name": "stdout",
     "output_type": "stream",
     "text": [
      "0\n",
      "1\n",
      "2\n",
      "3\n",
      "4\n",
      "5\n",
      "6\n",
      "7\n",
      "8\n",
      "9\n",
      "10\n",
      "11\n",
      "12\n",
      "13\n",
      "14\n",
      "15\n",
      "16\n",
      "17\n",
      "18\n",
      "19\n",
      "20\n",
      "21\n",
      "22\n",
      "23\n",
      "24\n",
      "25\n",
      "26\n",
      "27\n",
      "28\n",
      "29\n",
      "30\n",
      "31\n",
      "32\n",
      "33\n",
      "34\n",
      "35\n",
      "36\n",
      "37\n",
      "38\n",
      "39\n",
      "40\n",
      "41\n",
      "42\n",
      "43\n",
      "44\n",
      "45\n",
      "46\n",
      "47\n",
      "48\n",
      "49\n",
      "50\n",
      "51\n",
      "52\n",
      "53\n",
      "54\n",
      "55\n",
      "56\n",
      "57\n",
      "58\n",
      "59\n",
      "60\n",
      "61\n",
      "62\n",
      "63\n",
      "64\n",
      "65\n",
      "66\n",
      "67\n",
      "68\n",
      "69\n",
      "70\n",
      "71\n",
      "72\n",
      "73\n",
      "74\n",
      "75\n",
      "76\n",
      "77\n",
      "78\n",
      "79\n",
      "80\n",
      "81\n",
      "82\n",
      "83\n",
      "84\n",
      "85\n",
      "86\n",
      "87\n",
      "88\n",
      "89\n",
      "90\n",
      "91\n",
      "92\n",
      "93\n",
      "94\n",
      "95\n",
      "96\n",
      "97\n",
      "98\n",
      "99\n",
      "100\n"
     ]
    }
   ],
   "source": [
    "# (a)\n",
    "\n",
    "number = 0\n",
    "while number <= 100:\n",
    "    print (number)\n",
    "    number +=1"
   ]
  },
  {
   "cell_type": "code",
   "execution_count": 86,
   "id": "40c42fd2",
   "metadata": {},
   "outputs": [
    {
     "name": "stdout",
     "output_type": "stream",
     "text": [
      "0\n",
      "7\n",
      "14\n",
      "21\n",
      "28\n",
      "35\n",
      "42\n",
      "49\n",
      "56\n",
      "63\n",
      "70\n",
      "77\n",
      "84\n",
      "91\n",
      "98\n"
     ]
    }
   ],
   "source": [
    "# (b)\n",
    "number = 0\n",
    "while number <= 100:\n",
    "    if number % 7 == 0:\n",
    "        print(number)\n",
    "    number +=1"
   ]
  },
  {
   "cell_type": "markdown",
   "id": "56b4af19",
   "metadata": {},
   "source": [
    "# Exercise 2.4: Hangman update 1"
   ]
  },
  {
   "cell_type": "code",
   "execution_count": null,
   "id": "fd360c70",
   "metadata": {},
   "outputs": [],
   "source": []
  },
  {
   "cell_type": "markdown",
   "id": "282a0128",
   "metadata": {},
   "source": [
    "# Exercise 2.5: While loops"
   ]
  },
  {
   "cell_type": "code",
   "execution_count": 7,
   "id": "24393a81",
   "metadata": {},
   "outputs": [
    {
     "name": "stdout",
     "output_type": "stream",
     "text": [
      "1 : 385\n",
      "2 : 770\n",
      "3 : 1155\n",
      "4 : 1540\n",
      "5 : 1925\n",
      "6 : 2310\n",
      "7 : 2695\n",
      "8 : 3080\n",
      "9 : 3465\n",
      "10 : 3850\n",
      "11 : 4235\n",
      "12 : 4620\n",
      "13 : 5005\n",
      "14 : 5390\n",
      "15 : 5775\n",
      "16 : 6160\n",
      "17 : 6545\n",
      "18 : 6930\n",
      "19 : 7315\n",
      "20 : 7700\n"
     ]
    }
   ],
   "source": [
    "# (a)\n",
    "order = 1\n",
    "number = 1\n",
    "multiplier = 5*7*11\n",
    "while order <= 20:\n",
    "    number = multiplier * order\n",
    "    print(str (order) + \" : \" + str (number))\n",
    "    order +=1"
   ]
  },
  {
   "cell_type": "markdown",
   "id": "f7012fed",
   "metadata": {},
   "source": [
    "# Exercise 2.6: More while loops"
   ]
  },
  {
   "cell_type": "code",
   "execution_count": 9,
   "id": "05b51171",
   "metadata": {},
   "outputs": [
    {
     "name": "stdout",
     "output_type": "stream",
     "text": [
      "smallest number that is divisible by 2 to 2 : 2\n",
      "smallest number that is divisible by 2 to 3 : 6\n",
      "smallest number that is divisible by 2 to 4 : 12\n",
      "smallest number that is divisible by 2 to 5 : 60\n",
      "smallest number that is divisible by 2 to 6 : 60\n",
      "smallest number that is divisible by 2 to 7 : 420\n",
      "smallest number that is divisible by 2 to 8 : 840\n",
      "smallest number that is divisible by 2 to 9 : 2520\n",
      "smallest number that is divisible by 2 to 10 : 2520\n"
     ]
    }
   ],
   "source": [
    "import math\n",
    "   \n",
    "def leastCommon(n):\n",
    "    ans = 1\n",
    "    for i in range(1, n + 1):\n",
    "        ans = int((ans * i)/math.gcd(ans, i))        \n",
    "    return ans\n",
    "n = 2\n",
    "while n < 11:\n",
    "    print (\"smallest number that is divisible by 2 \" + \"to \" + str(n) + \" : \" + str(leastCommon(n)))\n",
    "    n+=1"
   ]
  },
  {
   "cell_type": "markdown",
   "id": "07bcfc6b",
   "metadata": {},
   "source": [
    "# Exercise 2.7: Collatz sequence"
   ]
  },
  {
   "cell_type": "code",
   "execution_count": 16,
   "id": "9299b38c",
   "metadata": {},
   "outputs": [],
   "source": [
    "def collatzSeq (num):\n",
    "    print (num)\n",
    "    while num !=1:\n",
    "        if num % 2 == 0:\n",
    "            num = num /2\n",
    "            if num == 1:\n",
    "                print (num)\n",
    "                break\n",
    "        if num % 2 == 1:\n",
    "            num = 3 * num + 1\n",
    "        print (num)\n",
    "        "
   ]
  },
  {
   "cell_type": "code",
   "execution_count": 18,
   "id": "d354279b",
   "metadata": {},
   "outputs": [
    {
     "name": "stdout",
     "output_type": "stream",
     "text": [
      "103\n",
      "310\n",
      "466.0\n",
      "700.0\n",
      "350.0\n",
      "526.0\n",
      "790.0\n",
      "1186.0\n",
      "1780.0\n",
      "890.0\n",
      "1336.0\n",
      "668.0\n",
      "334.0\n",
      "502.0\n",
      "754.0\n",
      "1132.0\n",
      "566.0\n",
      "850.0\n",
      "1276.0\n",
      "638.0\n",
      "958.0\n",
      "1438.0\n",
      "2158.0\n",
      "3238.0\n",
      "4858.0\n",
      "7288.0\n",
      "3644.0\n",
      "1822.0\n",
      "2734.0\n",
      "4102.0\n",
      "6154.0\n",
      "9232.0\n",
      "4616.0\n",
      "2308.0\n",
      "1154.0\n",
      "1732.0\n",
      "866.0\n",
      "1300.0\n",
      "650.0\n",
      "976.0\n",
      "488.0\n",
      "244.0\n",
      "122.0\n",
      "184.0\n",
      "92.0\n",
      "46.0\n",
      "70.0\n",
      "106.0\n",
      "160.0\n",
      "80.0\n",
      "40.0\n",
      "20.0\n",
      "10.0\n",
      "16.0\n",
      "8.0\n",
      "4.0\n",
      "2.0\n",
      "1.0\n"
     ]
    }
   ],
   "source": [
    "collatzSeq (103)"
   ]
  }
 ],
 "metadata": {
  "kernelspec": {
   "display_name": "Python 3 (ipykernel)",
   "language": "python",
   "name": "python3"
  },
  "language_info": {
   "codemirror_mode": {
    "name": "ipython",
    "version": 3
   },
   "file_extension": ".py",
   "mimetype": "text/x-python",
   "name": "python",
   "nbconvert_exporter": "python",
   "pygments_lexer": "ipython3",
   "version": "3.9.7"
  }
 },
 "nbformat": 4,
 "nbformat_minor": 5
}
