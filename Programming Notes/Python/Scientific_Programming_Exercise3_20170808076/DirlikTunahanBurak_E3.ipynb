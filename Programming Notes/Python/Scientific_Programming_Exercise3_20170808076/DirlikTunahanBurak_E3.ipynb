{
 "cells": [
  {
   "cell_type": "markdown",
   "id": "be6c2ce1",
   "metadata": {},
   "source": [
    "# 7 File I/O AND 8 CLASSES"
   ]
  },
  {
   "cell_type": "markdown",
   "id": "ae2cbc06",
   "metadata": {},
   "source": [
    "## Exercise 7.1: Open a file"
   ]
  },
  {
   "cell_type": "code",
   "execution_count": 12,
   "id": "9d3de7ff",
   "metadata": {},
   "outputs": [
    {
     "name": "stdout",
     "output_type": "stream",
     "text": [
      "Line 1 --> \"Lorem ipsum dolor sit amet,\n",
      "Line 2 --> consectetur adipiscing elit,\n",
      "Line 3 --> sed do eiusmod tempor incididunt ut labore et dolore magna aliqua.\n",
      "Line 4 --> Ut enim ad minim veniam, quis nostrud exercitation ullamco laboris nisi ut aliquip ex ea commodo consequat.\n",
      "Line 5 --> Duis aute irure dolor in reprehenderit in voluptate velit esse cillum dolore eu fugiat nulla pariatur.\n",
      "Line 6 --> Excepteur sint occaecat cupidatat non proident,\n",
      "Line 7 --> sunt in culpa qui officia deserunt mollit anim id est laborum.\"\n"
     ]
    }
   ],
   "source": [
    "def openFile(filename):\n",
    "    \n",
    "    file = open(filename)\n",
    "    lines = file.readlines()\n",
    "    counter =0\n",
    "    for line in lines:\n",
    "        counter += 1\n",
    "        print(\"Line {} --> {}\".format(counter, line.strip()))\n",
    "    file.close()\n",
    "    \n",
    "    \n",
    "openFile('C:/Users/Lenovo/Desktop/lorem.txt')"
   ]
  },
  {
   "cell_type": "markdown",
   "id": "7be81d5a",
   "metadata": {},
   "source": [
    "## Exercise 7.2: Wordcount"
   ]
  },
  {
   "cell_type": "markdown",
   "id": "a7ced803",
   "metadata": {},
   "source": [
    "# (a) Find the 20 most common words"
   ]
  },
  {
   "cell_type": "code",
   "execution_count": 23,
   "id": "fe3ce53c",
   "metadata": {},
   "outputs": [
    {
     "name": "stdout",
     "output_type": "stream",
     "text": [
      "Most common 1. word : the : 27730  times\n",
      "Most common 2. word : and : 26099  times\n",
      "Most common 3. word : i : 19540  times\n",
      "Most common 4. word : to : 18762  times\n",
      "Most common 5. word : of : 18126  times\n",
      "Most common 6. word : a : 14436  times\n",
      "Most common 7. word : my : 12456  times\n",
      "Most common 8. word : in : 10730  times\n",
      "Most common 9. word : you : 10696  times\n",
      "Most common 10. word : that : 10501  times\n",
      "Most common 11. word : is : 9168  times\n",
      "Most common 12. word : for : 8000  times\n",
      "Most common 13. word : with : 7981  times\n",
      "Most common 14. word : not : 7663  times\n",
      "Most common 15. word : your : 6878  times\n",
      "Most common 16. word : his : 6749  times\n",
      "Most common 17. word : be : 6716  times\n",
      "Most common 18. word : this : 5930  times\n",
      "Most common 19. word : as : 5893  times\n",
      "Most common 20. word : but : 5891  times\n"
     ]
    }
   ],
   "source": [
    "def wordCounter(path):\n",
    "\n",
    "    dictionary = dict()\n",
    "    text = open(path)\n",
    "    \n",
    "    for line in text:\n",
    "\n",
    "        line = line.strip().lower()\n",
    "        #now all words start with lower character, avoided mismatch and removed leading spaces and newline character\n",
    "        words = line.split(\" \")\n",
    "\n",
    "        for items in words:\n",
    "            if items in dictionary:\n",
    "                dictionary[items] = dictionary[items] + 1 #increment word count\n",
    "            else:\n",
    "                dictionary[items] = 1\n",
    "\n",
    "    sortdict = dict(sorted(dictionary.items(), key=lambda x:x[1])) # now dictionary is ascending order according to value\n",
    "    counter = 1\n",
    "\n",
    "    for key in list(sortdict.keys().__reversed__()):\n",
    "        if key==\"\":\n",
    "            continue\n",
    "        print(\"Most common \" + str(counter) + \". word : \" + key + \" : \" +  str(sortdict[key]) + \"  times\" )\n",
    "        #print(\"Most common\", counter, \". word: \",key, \":\", sortdict[key], \" times\")\n",
    "        counter +=1\n",
    "        if counter == 21:\n",
    "            break\n",
    "\n",
    "wordCounter(r\"C:\\Users\\Lenovo\\Desktop\\william.txt\")"
   ]
  },
  {
   "cell_type": "markdown",
   "id": "b0ef913b",
   "metadata": {},
   "source": [
    "# (b) How many unique words are used?"
   ]
  },
  {
   "cell_type": "code",
   "execution_count": 12,
   "id": "ed5afa16",
   "metadata": {},
   "outputs": [
    {
     "name": "stdout",
     "output_type": "stream",
     "text": [
      "Number of used unique word is :  31127\n"
     ]
    }
   ],
   "source": [
    "def wordCounter(path):\n",
    "    dictionary = dict()\n",
    "    text = open(path)\n",
    "\n",
    "    for line in text:\n",
    "\n",
    "        line = line.strip().lower()\n",
    "        # now all words start with lower character, avoided mismatch and removed leading spaces and newline character\n",
    "        words = line.split(\" \")\n",
    "\n",
    "        for items in words:\n",
    "            if items in dictionary:\n",
    "                dictionary[items] = dictionary[items] + 1  # increment word count\n",
    "            else:\n",
    "                dictionary[items] = 1\n",
    "\n",
    "    counter = 0\n",
    "    sortdict = dict(sorted(dictionary.items(), key=lambda x: x[1]))  # now dictionary is ascending order according to value\n",
    "\n",
    "    countword = 0\n",
    "    for key in list(sortdict.keys()):\n",
    "        countword +=1\n",
    "        if sortdict[key] == 1:\n",
    "           counter +=1\n",
    "    print(\"Number of used unique word is : \",counter)\n",
    "    \n",
    "\n",
    "wordCounter(r\"C:\\Users\\Lenovo\\Desktop\\william.txt\")"
   ]
  },
  {
   "cell_type": "markdown",
   "id": "c9d297b5",
   "metadata": {},
   "source": [
    "# (c) How many words are used at least 5 times?"
   ]
  },
  {
   "cell_type": "code",
   "execution_count": 29,
   "id": "b1bfebf5",
   "metadata": {},
   "outputs": [
    {
     "name": "stdout",
     "output_type": "stream",
     "text": [
      "Number of words used at least 5 times :  13051\n"
     ]
    }
   ],
   "source": [
    "def wordCounter(path):\n",
    "    dictionary = dict()\n",
    "    text = open(path)\n",
    "\n",
    "    for line in text:\n",
    "\n",
    "        line = line.strip().lower()\n",
    "        # now all words start with lower character, avoided mismatch and removed leading spaces and newline character\n",
    "        words = line.split(\" \")\n",
    "\n",
    "        for items in words:\n",
    "            if items in dictionary:\n",
    "                dictionary[items] = dictionary[items] + 1  # increment word count\n",
    "            else:\n",
    "                dictionary[items] = 1\n",
    "\n",
    "    counter = 0\n",
    "    sortdict = dict(sorted(dictionary.items(), key=lambda x: x[1]))  # now dictionary is ascending order according to value\n",
    "\n",
    "    countword = 0\n",
    "    for key in list(sortdict.keys()):\n",
    "        countword +=1\n",
    "        if sortdict[key] >= 5:\n",
    "           counter +=1\n",
    "    print(\"Number of words used at least 5 times : \",counter)\n",
    "\n",
    "\n",
    "wordCounter(r\"C:\\Users\\Lenovo\\Desktop\\william.txt\")\n"
   ]
  },
  {
   "cell_type": "markdown",
   "id": "42427b78",
   "metadata": {},
   "source": [
    "# (d) Write the 200 most common words, and their counts, to a file."
   ]
  },
  {
   "cell_type": "code",
   "execution_count": 37,
   "id": "16e046a3",
   "metadata": {},
   "outputs": [
    {
     "name": "stdout",
     "output_type": "stream",
     "text": [
      "Line 1 --> 1 : the : 27730\n",
      "Line 2 --> 2 : and : 26099\n",
      "Line 3 --> 3 : i : 19540\n",
      "Line 4 --> 4 : to : 18762\n",
      "Line 5 --> 5 : of : 18126\n",
      "Line 6 --> 6 : a : 14436\n",
      "Line 7 --> 7 : my : 12456\n",
      "Line 8 --> 8 : in : 10730\n",
      "Line 9 --> 9 : you : 10696\n",
      "Line 10 --> 10 : that : 10501\n",
      "Line 11 --> 11 : is : 9168\n",
      "Line 12 --> 12 : for : 8000\n",
      "Line 13 --> 13 : with : 7981\n",
      "Line 14 --> 14 : not : 7663\n",
      "Line 15 --> 15 : your : 6878\n",
      "Line 16 --> 16 : his : 6749\n",
      "Line 17 --> 17 : be : 6716\n",
      "Line 18 --> 18 : this : 5930\n",
      "Line 19 --> 19 : as : 5893\n",
      "Line 20 --> 20 : but : 5891\n",
      "Line 21 --> 21 : he : 5886\n",
      "Line 22 --> 22 : it : 5879\n",
      "Line 23 --> 23 : have : 5683\n",
      "Line 24 --> 24 : thou : 5138\n",
      "Line 25 --> 25 : me : 4851\n",
      "Line 26 --> 26 : will : 4511\n",
      "Line 27 --> 27 : by : 4310\n",
      "Line 28 --> 28 : so : 4094\n",
      "Line 29 --> 29 : thy : 4028\n",
      "Line 30 --> 30 : what : 3836\n",
      "Line 31 --> 31 : are : 3706\n",
      "Line 32 --> 32 : if : 3476\n",
      "Line 33 --> 33 : shall : 3475\n",
      "Line 34 --> 34 : do : 3332\n",
      "Line 35 --> 35 : all : 3303\n",
      "Line 36 --> 36 : we : 3210\n",
      "Line 37 --> 37 : him : 3112\n",
      "Line 38 --> 38 : or : 3100\n",
      "Line 39 --> 39 : our : 3064\n",
      "Line 40 --> 40 : her : 3005\n",
      "Line 41 --> 41 : no : 2864\n",
      "Line 42 --> 42 : on : 2649\n",
      "Line 43 --> 43 : from : 2647\n",
      "Line 44 --> 44 : good : 2560\n",
      "Line 45 --> 45 : at : 2459\n",
      "Line 46 --> 46 : they : 2346\n",
      "Line 47 --> 47 : would : 2240\n",
      "Line 48 --> 48 : which : 2160\n",
      "Line 49 --> 49 : was : 2097\n",
      "Line 50 --> 50 : let : 2089\n",
      "Line 51 --> 51 : their : 2078\n",
      "Line 52 --> 52 : she : 2068\n",
      "Line 53 --> 53 : am : 2054\n",
      "Line 54 --> 54 : how : 2027\n",
      "Line 55 --> 55 : enter : 2013\n",
      "Line 56 --> 56 : when : 1992\n",
      "Line 57 --> 57 : hath : 1902\n",
      "Line 58 --> 58 : than : 1877\n",
      "Line 59 --> 59 : an : 1822\n",
      "Line 60 --> 60 : more : 1820\n",
      "Line 61 --> 61 : thee : 1794\n",
      "Line 62 --> 62 : may : 1762\n",
      "Line 63 --> 63 : i'll : 1737\n",
      "Line 64 --> 64 : king : 1698\n",
      "Line 65 --> 65 : upon : 1666\n",
      "Line 66 --> 66 : like : 1640\n",
      "Line 67 --> 67 : make : 1599\n",
      "Line 68 --> 68 : now : 1596\n",
      "Line 69 --> 69 : such : 1592\n",
      "Line 70 --> 70 : then : 1537\n",
      "Line 71 --> 71 : should : 1535\n",
      "Line 72 --> 72 : were : 1498\n",
      "Line 73 --> 73 : did : 1493\n",
      "Line 74 --> 74 : one : 1481\n",
      "Line 75 --> 75 : you, : 1479\n",
      "Line 76 --> 76 : must : 1458\n",
      "Line 77 --> 77 : know : 1403\n",
      "Line 78 --> 78 : had : 1373\n",
      "Line 79 --> 79 : there : 1369\n",
      "Line 80 --> 80 : 'tis : 1367\n",
      "Line 81 --> 81 : come : 1359\n",
      "Line 82 --> 82 : here : 1327\n",
      "Line 83 --> 83 : some : 1307\n",
      "Line 84 --> 84 : them : 1305\n",
      "Line 85 --> 85 : give : 1288\n",
      "Line 86 --> 86 : yet : 1286\n",
      "Line 87 --> 87 : love : 1279\n",
      "Line 88 --> 88 : these : 1255\n",
      "Line 89 --> 89 : sir, : 1235\n",
      "Line 90 --> 90 : go : 1223\n",
      "Line 91 --> 91 : me, : 1218\n",
      "Line 92 --> 92 : say : 1189\n",
      "Line 93 --> 93 : see : 1170\n",
      "Line 94 --> 94 : o : 1168\n",
      "Line 95 --> 95 : take : 1167\n",
      "Line 96 --> 96 : most : 1156\n",
      "Line 97 --> 97 : where : 1154\n",
      "Line 98 --> 98 : th' : 1146\n",
      "Line 99 --> 99 : can : 1139\n",
      "Line 100 --> 100 : us : 1076\n",
      "Line 101 --> 101 : man : 1033\n",
      "Line 102 --> 102 : who : 1031\n",
      "Line 103 --> 103 : out : 1026\n",
      "Line 104 --> 104 : o, : 1008\n",
      "Line 105 --> 105 : tell : 993\n",
      "Line 106 --> 106 : first : 986\n",
      "Line 107 --> 107 : well : 984\n",
      "Line 108 --> 108 : lord, : 977\n",
      "Line 109 --> 109 : nor : 961\n",
      "Line 110 --> 110 : never : 959\n",
      "Line 111 --> 111 : time : 936\n",
      "Line 112 --> 112 : any : 936\n",
      "Line 113 --> 113 : doth : 912\n",
      "Line 114 --> 114 : lord : 894\n",
      "Line 115 --> 115 : much : 891\n",
      "Line 116 --> 116 : come, : 875\n",
      "Line 117 --> 117 : mine : 866\n",
      "Line 118 --> 118 : think : 862\n",
      "Line 119 --> 119 : exeunt : 841\n",
      "Line 120 --> 120 : great : 828\n",
      "Line 121 --> 121 : me. : 823\n",
      "Line 122 --> 122 : you. : 813\n",
      "Line 123 --> 123 : very : 811\n",
      "Line 124 --> 124 : why, : 805\n",
      "Line 125 --> 125 : up : 805\n",
      "Line 126 --> 126 : art : 805\n",
      "Line 127 --> 127 : speak : 803\n",
      "Line 128 --> 128 : now, : 785\n",
      "Line 129 --> 129 : it. : 784\n",
      "Line 130 --> 130 : too : 779\n",
      "Line 131 --> 131 : him. : 755\n",
      "Line 132 --> 132 : scene : 753\n",
      "Line 133 --> 133 : made : 749\n",
      "Line 134 --> 134 : hear : 737\n",
      "Line 135 --> 135 : exit : 728\n",
      "Line 136 --> 136 : cannot : 723\n",
      "Line 137 --> 137 : sir : 721\n",
      "Line 138 --> 138 : sweet : 707\n",
      "Line 139 --> 139 : lord. : 702\n",
      "Line 140 --> 140 : him, : 698\n",
      "Line 141 --> 141 : look : 693\n",
      "Line 142 --> 142 : before : 691\n",
      "Line 143 --> 143 : ay, : 661\n",
      "Line 144 --> 144 : own : 659\n",
      "Line 145 --> 145 : been : 651\n",
      "Line 146 --> 146 : and, : 647\n",
      "Line 147 --> 147 : well, : 647\n",
      "Line 148 --> 148 : no, : 645\n",
      "Line 149 --> 149 : two : 640\n",
      "Line 150 --> 150 : being : 640\n",
      "Line 151 --> 151 : king. : 638\n",
      "Line 152 --> 152 : into : 633\n",
      "Line 153 --> 153 : why : 624\n",
      "Line 154 --> 154 : fair : 624\n",
      "Line 155 --> 155 : old : 623\n",
      "Line 156 --> 156 : pray : 622\n",
      "Line 157 --> 157 : whose : 612\n",
      "Line 158 --> 158 : till : 611\n",
      "Line 159 --> 159 : though : 611\n",
      "Line 160 --> 160 : could : 604\n",
      "Line 161 --> 161 : thee, : 597\n",
      "Line 162 --> 162 : against : 587\n",
      "Line 163 --> 163 : poor : 578\n",
      "Line 164 --> 164 : noble : 574\n",
      "Line 165 --> 165 : duke : 571\n",
      "Line 166 --> 166 : hast : 568\n",
      "Line 167 --> 167 : other : 567\n",
      "Line 168 --> 168 : world : 567\n",
      "Line 169 --> 169 : second : 565\n",
      "Line 170 --> 170 : men : 557\n",
      "Line 171 --> 171 : god : 555\n",
      "Line 172 --> 172 : long : 555\n",
      "Line 173 --> 173 : thus : 553\n",
      "Line 174 --> 174 : nay, : 550\n",
      "Line 175 --> 175 : even : 548\n",
      "Line 176 --> 176 : those : 537\n",
      "Line 177 --> 177 : many : 535\n",
      "Line 178 --> 178 : ever : 530\n",
      "Line 179 --> 179 : it, : 529\n",
      "Line 180 --> 180 : heart : 528\n",
      "Line 181 --> 181 : leave : 522\n",
      "Line 182 --> 182 : call : 518\n",
      "Line 183 --> 183 : comes : 513\n",
      "Line 184 --> 184 : use : 509\n",
      "Line 185 --> 185 : master : 506\n",
      "Line 186 --> 186 : better : 501\n",
      "Line 187 --> 187 : so, : 495\n",
      "Line 188 --> 188 : put : 494\n",
      "Line 189 --> 189 : find : 492\n",
      "Line 190 --> 190 : every : 491\n",
      "Line 191 --> 191 : not, : 481\n",
      "Line 192 --> 192 : what, : 477\n",
      "Line 193 --> 193 : both : 473\n",
      "Line 194 --> 194 : stand : 469\n",
      "Line 195 --> 195 : electronic : 469\n",
      "Line 196 --> 196 : queen : 466\n",
      "Line 197 --> 197 : bear : 465\n",
      "Line 198 --> 198 : keep : 460\n",
      "Line 199 --> 199 : therefore : 459\n",
      "Line 200 --> 200 : might : 458\n"
     ]
    }
   ],
   "source": [
    "def wordCounter(path):\n",
    "    dictionary = dict()\n",
    "    text = open(path)\n",
    "\n",
    "    for line in text:\n",
    "\n",
    "        line = line.strip().lower()\n",
    "        # now all words start with lower character, avoided mismatch and removed leading spaces and newline character\n",
    "        words = line.split(\" \")\n",
    "\n",
    "        for items in words:\n",
    "            if items in dictionary:\n",
    "                dictionary[items] = dictionary[items] + 1  # increment word count\n",
    "            else:\n",
    "                dictionary[items] = 1\n",
    "\n",
    "    sortdict = dict(sorted(dictionary.items(), key=lambda x: x[1]))  # now dictionary is ascending order according to value\n",
    "    counter = 1\n",
    "\n",
    "    text_file = open(\"200mostCommonWord.txt\", \"w\")\n",
    "    for key in list(sortdict.keys().__reversed__()):\n",
    "        if key == \"\":\n",
    "            continue\n",
    "\n",
    "        if counter == 201:\n",
    "            break\n",
    "\n",
    "        lineWillBeWrited = str(counter) + \" : \" + key + \" : \" + str(sortdict[key]) + \"\\n\"\n",
    "        n = text_file.write(str(lineWillBeWrited))\n",
    "\n",
    "        counter += 1\n",
    "\n",
    "    text_file.close()\n",
    "\n",
    "wordCounter(r\"C:\\Users\\Lenovo\\Desktop\\william.txt\")\n",
    "openFile(\"C:/Users/Lenovo/PycharmProjects/SPE3/200mostCommonWord.txt\")"
   ]
  },
  {
   "cell_type": "markdown",
   "id": "8d162c78",
   "metadata": {},
   "source": [
    "# (Exercise 7.3: Random text generator II)"
   ]
  },
  {
   "cell_type": "code",
   "execution_count": 5,
   "id": "847bafec",
   "metadata": {},
   "outputs": [
    {
     "name": "stdout",
     "output_type": "stream",
     "text": [
      "BEGIN aute incididunt dolor amet, ex laboris amet, ex est ea qui exercitation \"lorem deserunt ut veniam, ut consequat. non deserunt veniam, est id cillum dolore tempor proident, ut in occaecat culpa in ea ut ut laborum.\" et in dolore consectetur dolore velit consectetur et nisi ex eu qui incididunt END \n"
     ]
    }
   ],
   "source": [
    "import random\n",
    "\n",
    "def process_line(line):\n",
    "\n",
    "    pass\n",
    "\n",
    "def process_textfile(filename):\n",
    "\n",
    "\n",
    "    f = open(filename, \"r\")\n",
    "    content = f.read()\n",
    "    words = content.split()\n",
    "    f.close()\n",
    "\n",
    "    d = {}\n",
    "    wordlist = []\n",
    "\n",
    "    ########################CLEAN WORD##########################################\n",
    "    punc = '''!()-[]{};:'\"\\,<>./?@#$%^&*_~'''\n",
    "    for word in words:\n",
    "        cleanword = word.strip().lower()\n",
    "        if word in punc:\n",
    "            cleanword = cleanword.replace(word,\"\")\n",
    "        wordlist.append(cleanword)\n",
    "    #############################ADD DICTIONARY#################################\n",
    "\n",
    "    d[\"BEGIN\"] = wordlist[0]\n",
    "\n",
    "    for index in range(len(wordlist)):\n",
    "        value = wordlist[index]\n",
    "    #print(index, value)\n",
    "    # index 117779\n",
    "    # len 117780\n",
    "    # index + 1 i yazamıyorsun yani\n",
    "    # eğer index + 1 len e eşit olursa döngüyü kıracaksın\n",
    "        if index + 1 < len(wordlist):\n",
    "            d[value] = wordlist[index+1]\n",
    "\n",
    "\n",
    "    d[wordlist[-1]] = \"END\"\n",
    "    \n",
    "    ################################# GENERATE SENTENCE ########################\n",
    "\n",
    "    generated_sentence = \"BEGIN \"\n",
    "\n",
    "    while \"END\" not in generated_sentence:\n",
    "\n",
    "        n = random.randint(0, len(d))\n",
    "        counter = 0 # dictionary için index görevi görüyor \n",
    "        for key, value in d.items():\n",
    "\n",
    "            if counter == n: # üretilen random sayı indexe karşılık gelince generated sentence ye ekleme yapılıyor.  \n",
    "                generated_sentence +=value + \" \"\n",
    "\n",
    "            counter += 1\n",
    "    print(generated_sentence)\n",
    "\n",
    "\n",
    "    #beginle başlayacaksın\n",
    "    #random sayı ürettireceksin\n",
    "    #random sayı keye karşılık gelecek\n",
    "    #o key value çiftini generatedsenctence ye atayacaksın\n",
    "    #eğer key value çiftinin value si END ile bitmiyosa tekrar random sayı ürettireceksin\n",
    "    #dictionaryde yine key value ya denk gelen çifti bu sefer generatedsentence ye ekleyeceksin\n",
    "    #bu en ile bitene kadar devam edecek\n",
    "\n",
    "\n",
    "def generate_line(d):\n",
    "\n",
    "    pass\n",
    "\n",
    "if __name__ == '__main__':\n",
    "    \n",
    "    process_textfile(\"C:/Users/Lenovo/Desktop/lorem.txt\")\n",
    "    ## SADECE UNIQUE KELİME İÇEREN METİN DOSYALARI İÇİN ÇALIŞIR. DAHA SONRA DÜZELTİCEM."
   ]
  },
  {
   "cell_type": "markdown",
   "id": "4e679672",
   "metadata": {},
   "source": [
    "# Exercise 7.4: Sum of lists"
   ]
  },
  {
   "cell_type": "markdown",
   "id": "60bbb7b8",
   "metadata": {},
   "source": [
    "# (a) Data generation"
   ]
  },
  {
   "cell_type": "code",
   "execution_count": 43,
   "id": "c7ab3e90",
   "metadata": {},
   "outputs": [],
   "source": [
    "def dataGeneration(n,a,b,filename):\n",
    "    import random\n",
    "\n",
    "    text_file = open(filename, \"w\")\n",
    "    for i in range(0, n):\n",
    "        x = str(random.randint(a, b)) + \"\\n\"\n",
    "\n",
    "        n = text_file.write(x)\n",
    "\n",
    "    text_file.close()\n",
    "\n",
    "dataGeneration(10,0,20, \"D:/datatxt.txt\")"
   ]
  },
  {
   "cell_type": "markdown",
   "id": "9fbdbe0e",
   "metadata": {},
   "source": [
    "# (b) Reading the data"
   ]
  },
  {
   "cell_type": "code",
   "execution_count": 45,
   "id": "6c6b70cf",
   "metadata": {},
   "outputs": [
    {
     "name": "stdout",
     "output_type": "stream",
     "text": [
      "2\n",
      "16\n",
      "16\n",
      "20\n",
      "5\n",
      "13\n",
      "4\n",
      "4\n",
      "15\n",
      "19\n"
     ]
    }
   ],
   "source": [
    "def readingData(filepath):\n",
    "    file = open(filepath, 'r')\n",
    "    count = 0\n",
    "    for line in file:\n",
    "        count += 1\n",
    "        print((line.strip()))\n",
    "    file.close()\n",
    "\n",
    "readingData('D:/datatxt.txt')\n"
   ]
  },
  {
   "cell_type": "markdown",
   "id": "574215da",
   "metadata": {},
   "source": [
    "# (c)  Sum problem"
   ]
  },
  {
   "cell_type": "code",
   "execution_count": 35,
   "id": "afd40027",
   "metadata": {},
   "outputs": [
    {
     "name": "stdout",
     "output_type": "stream",
     "text": [
      "[193, 182, 188, 186, 182, 190, 192, 185, 190, 183, 189, 196, 196, 182, 195, 193, 188, 185, 187, 198]\n",
      "[7, 18, 12, 14, 18, 10, 8, 15, 10, 17, 11, 4, 4, 18, 5, 7, 12, 15, 13, 2]\n"
     ]
    }
   ],
   "source": [
    "def sumProblem(filepath1, filepath2, k):\n",
    "    '''\n",
    "    file1 i ürettir\n",
    "    file1 i satır satır oku\n",
    "    her satırda V yi hesapla\n",
    "    V yi bir liste ye ekle\n",
    "    listeyi dosyaya yaz\n",
    "    '''\n",
    "    file1 = open(filepath1, 'r')\n",
    "    file2 = filepath2\n",
    "\n",
    "    List1 = [] # will be added elements of file 1 \n",
    "    List2 = [] # will be added elements of file 2 \n",
    "    count = 0\n",
    "\n",
    "    for line in file1:\n",
    "        count += 1\n",
    "        file1linepointtoU= int (line.strip())\n",
    "        file2linepointtoV = k - file1linepointtoU\n",
    "        List1.append(file2linepointtoV)\n",
    "        List2.append(file1linepointtoU)\n",
    "\n",
    "    with open(file2, 'w') as f:\n",
    "        for item in List1:\n",
    "            f.write(\"%s\\n\" % item)\n",
    "\n",
    "    file1.close()\n",
    "    f.close()\n",
    "    print(List1)\n",
    "    print(List2)\n",
    "\n",
    "#              n  a  b\n",
    "#              U\n",
    "dataGeneration(20,0,20, \"D:/9000.txt\")\n",
    "\n",
    "sumProblem(\"D:/9000.txt\", \"D:/9001.txt\", 200)\n",
    "#              V                         K\n",
    "#  U + V = K  --> SO SUM OF SAME INDEXES OF FILES EQUAL TO 200 A THIS EXAMPLE  \n"
   ]
  },
  {
   "cell_type": "markdown",
   "id": "f972856c",
   "metadata": {},
   "source": [
    "# (d) Testing"
   ]
  },
  {
   "cell_type": "code",
   "execution_count": 34,
   "id": "e7fa1bd0",
   "metadata": {},
   "outputs": [],
   "source": [
    "dataGeneration(2000,1, 10000, \"D:/2000.txt\")\n",
    "# working correctly (:)\n",
    "sumProblem(\"D:/2000.txt\", \"D:/2001.txt\", 5000)"
   ]
  },
  {
   "cell_type": "markdown",
   "id": "27b603ca",
   "metadata": {},
   "source": [
    "# Classes\n",
    "## Exercise 8.1: Rational numbers"
   ]
  },
  {
   "cell_type": "markdown",
   "id": "1824f333",
   "metadata": {},
   "source": [
    "### (a) Create a class Rational which is initialized by two integers, p and q, the nominator and denominator"
   ]
  },
  {
   "cell_type": "code",
   "execution_count": 46,
   "id": "8614157c",
   "metadata": {},
   "outputs": [],
   "source": [
    "class Rational:\n",
    "\n",
    "    def __init__(self, p, q):\n",
    "        self.nominator = p\n",
    "        self.denominator = q\n",
    "        num =  p/q\n",
    "\n",
    "rationalNumber = Rational(10, 20)"
   ]
  },
  {
   "cell_type": "markdown",
   "id": "7c9b810c",
   "metadata": {},
   "source": [
    "### (a) Create a class Rational which is initialized by two integers, p and q, the nominator and denominator "
   ]
  },
  {
   "cell_type": "code",
   "execution_count": 47,
   "id": "e97f8651",
   "metadata": {},
   "outputs": [
    {
     "name": "stdout",
     "output_type": "stream",
     "text": [
      "10/20\n"
     ]
    }
   ],
   "source": [
    "class Rational:\n",
    "\n",
    "    def __init__(self, p, q):\n",
    "        self.nominator = p\n",
    "        self.denominator = q\n",
    "        num =  p/q\n",
    "    \n",
    "    ################################# SOLUTION START HERE #################################\n",
    "    def __str__(self):\n",
    "        number = str(self.nominator) + \"/\" +  str(self.denominator)\n",
    "        return number\n",
    "    #######################################################################################\n",
    "    \n",
    "rationalNumber = Rational(10, 20)\n",
    "print(rationalNumber.__str__())"
   ]
  },
  {
   "cell_type": "markdown",
   "id": "baa5f463",
   "metadata": {},
   "source": [
    "### (c) We would like to represent 10/20 by 1 2 instead, hence write a function that computes the greatest common divisor, and ensure that every rational number is simplified"
   ]
  },
  {
   "cell_type": "code",
   "execution_count": 48,
   "id": "dc479035",
   "metadata": {},
   "outputs": [
    {
     "name": "stdout",
     "output_type": "stream",
     "text": [
      "1/4\n"
     ]
    }
   ],
   "source": [
    "class Rational:\n",
    "    def __init__(self, p, q):\n",
    "        self.nominator = p\n",
    "        self.denominator = q\n",
    "        num = p / q\n",
    "\n",
    "    def __str__(self):\n",
    "        number = str(self.nominator) + \"/\" + str(self.denominator)\n",
    "        return number\n",
    "\n",
    "    ################################# SOLUTION START HERE #################################\n",
    "    def simplfyRational(self):\n",
    "        num1 = self.nominator\n",
    "        num2 = self.denominator\n",
    "\n",
    "        while (num2):\n",
    "            num1, num2 = num2, num1 % num2\n",
    "        gcd = num1\n",
    "        return str(int(self.nominator / gcd)) + \"/\" + str(int(self.denominator / gcd))\n",
    "    #######################################################################################\n",
    "\n",
    "\n",
    "rationalNumber = Rational(100, 400)\n",
    "print(rationalNumber.simplfyRational())"
   ]
  },
  {
   "cell_type": "markdown",
   "id": "ea652001",
   "metadata": {},
   "source": [
    "### (d) Add a method so that we can add two rational numbers with r1 + r2, here the __add__() method is useful."
   ]
  },
  {
   "cell_type": "code",
   "execution_count": 51,
   "id": "f859f965",
   "metadata": {},
   "outputs": [
    {
     "name": "stdout",
     "output_type": "stream",
     "text": [
      "500\n"
     ]
    }
   ],
   "source": [
    "class Rational:\n",
    "    def __init__(self, p, q):\n",
    "        self.nominator = p\n",
    "        self.denominator = q\n",
    "        num = p / q\n",
    "\n",
    "    def __str__(self):\n",
    "        number = str(self.nominator) + \"/\" + str(self.denominator)\n",
    "        return number\n",
    "\n",
    "    def simplfyRational(self):\n",
    "        num1 = self.nominator\n",
    "        num2 = self.denominator\n",
    "\n",
    "        while (num2):\n",
    "            num1, num2 = num2, num1 % num2\n",
    "        gcd = num1\n",
    "        return str(int(self.nominator / gcd)) + \"/\" + str(int(self.denominator / gcd))\n",
    "\n",
    "    ################################# SOLUTION START HERE #################################\n",
    "    def __add__(self):\n",
    "        num1 =  self.nominator # num1 is not a nominator, it is the first number that will be added now\n",
    "        num2  = self.denominator #num2 is not a denominator, it is the second number that will be added now\n",
    "        return num2 + num1\n",
    "    #######################################################################################\n",
    "\n",
    "rationalNumber = Rational(100, 400)\n",
    "print(rationalNumber.__add__())"
   ]
  },
  {
   "cell_type": "markdown",
   "id": "dbe95f14",
   "metadata": {},
   "source": [
    "### (e) Add a method to subtract two rational numbers. (__sub__)"
   ]
  },
  {
   "cell_type": "code",
   "execution_count": 52,
   "id": "6c20f092",
   "metadata": {},
   "outputs": [
    {
     "name": "stdout",
     "output_type": "stream",
     "text": [
      "300\n"
     ]
    }
   ],
   "source": [
    "class Rational:\n",
    "    def __init__(self, p, q):\n",
    "        self.nominator = p\n",
    "        self.denominator = q\n",
    "        num = p / q\n",
    "\n",
    "    def __str__(self):\n",
    "        number = str(self.nominator) + \"/\" + str(self.denominator)\n",
    "        return number\n",
    "\n",
    "    def simplfyRational(self):\n",
    "        num1 = self.nominator\n",
    "        num2 = self.denominator\n",
    "\n",
    "        while (num2):\n",
    "            num1, num2 = num2, num1 % num2\n",
    "        gcd = num1\n",
    "        return str(int(self.nominator / gcd)) + \"/\" + str(int(self.denominator / gcd))\n",
    "\n",
    "    def __add__(self):\n",
    "        num1 =  self.nominator \n",
    "        num2  = self.denominator \n",
    "        return num2 + num1\n",
    "\n",
    "    ################################# SOLUTION START HERE #################################\n",
    "    def __sub__(self):\n",
    "        num1 = self.nominator  \n",
    "        num2 = self.denominator  \n",
    "        return num2 - num1\n",
    "    #######################################################################################\n",
    "\n",
    "\n",
    "rationalNumber = Rational(100, 400)\n",
    "\n",
    "print(rationalNumber.__sub__())"
   ]
  },
  {
   "cell_type": "markdown",
   "id": "ec3ea369",
   "metadata": {},
   "source": [
    "### (f) Add a method to multiply two rational numbers. (__mul__)"
   ]
  },
  {
   "cell_type": "code",
   "execution_count": 53,
   "id": "17419265",
   "metadata": {},
   "outputs": [
    {
     "name": "stdout",
     "output_type": "stream",
     "text": [
      "300\n"
     ]
    }
   ],
   "source": [
    "class Rational:\n",
    "    def __init__(self, p, q):\n",
    "        self.nominator = p\n",
    "        self.denominator = q\n",
    "        num = p / q\n",
    "\n",
    "    def __str__(self):\n",
    "        number = str(self.nominator) + \"/\" + str(self.denominator)\n",
    "        return number\n",
    "\n",
    "    def simplfyRational(self):\n",
    "        num1 = self.nominator\n",
    "        num2 = self.denominator\n",
    "\n",
    "        while (num2):\n",
    "            num1, num2 = num2, num1 % num2\n",
    "        gcd = num1\n",
    "        return str(int(self.nominator / gcd)) + \"/\" + str(int(self.denominator / gcd))\n",
    "\n",
    "    def __add__(self):\n",
    "        num1 =  self.nominator \n",
    "        num2  = self.denominator \n",
    "        return num2 + num1\n",
    "\n",
    "    def __sub__(self):\n",
    "        num1 = self.nominator  \n",
    "        num2 = self.denominator  \n",
    "        return num2 - num1\n",
    "\n",
    "    ################################# SOLUTION START HERE #################################\n",
    "    def __mul__(self):\n",
    "        num1 = self.nominator\n",
    "        num2 = self.denominator\n",
    "        return num1 * num2\n",
    "    #######################################################################################\n",
    "\n",
    "rationalNumber = Rational(100, 3)\n",
    "\n",
    "print(rationalNumber.__mul__())"
   ]
  },
  {
   "cell_type": "markdown",
   "id": "5fd15954",
   "metadata": {},
   "source": [
    "### (g) Add a method to divide two rational numbers. (__div__)"
   ]
  },
  {
   "cell_type": "code",
   "execution_count": 54,
   "id": "9aa89a76",
   "metadata": {},
   "outputs": [
    {
     "name": "stdout",
     "output_type": "stream",
     "text": [
      "0.25\n"
     ]
    }
   ],
   "source": [
    "class Rational:\n",
    "    def __init__(self, p, q):\n",
    "        self.nominator = p\n",
    "        self.denominator = q\n",
    "        num = p / q\n",
    "\n",
    "    def __str__(self):\n",
    "        number = str(self.nominator) + \"/\" + str(self.denominator)\n",
    "        return number\n",
    "\n",
    "    def simplfyRational(self):\n",
    "        num1 = self.nominator\n",
    "        num2 = self.denominator\n",
    "\n",
    "        while (num2):\n",
    "            num1, num2 = num2, num1 % num2\n",
    "        gcd = num1\n",
    "        return str(int(self.nominator / gcd)) + \"/\" + str(int(self.denominator / gcd))\n",
    "\n",
    "    def __add__(self):\n",
    "        num1 =  self.nominator \n",
    "        num2  = self.denominator \n",
    "        return num2 + num1\n",
    "\n",
    "    def __sub__(self):\n",
    "        num1 = self.nominator  \n",
    "        num2 = self.denominator  \n",
    "        return num2 - num1\n",
    "\n",
    "\n",
    "    def __mul__(self):\n",
    "        num1 = self.nominator\n",
    "        num2 = self.denominator\n",
    "        return num1 * num2\n",
    "    ################################# SOLUTION START HERE #################################\n",
    "    def __div__(self):\n",
    "        num1 = self.nominator\n",
    "        num2 = self.denominator\n",
    "        return num1 / num2\n",
    "    #######################################################################################\n",
    "\n",
    "rationalNumber = Rational(100, 400)\n",
    "\n",
    "print(rationalNumber.__div__())"
   ]
  },
  {
   "cell_type": "markdown",
   "id": "5bbb35b1",
   "metadata": {},
   "source": [
    "### (h) Add a method that compares whether two rational numbers are equal."
   ]
  },
  {
   "cell_type": "code",
   "execution_count": 55,
   "id": "b8c85a79",
   "metadata": {},
   "outputs": [
    {
     "name": "stdout",
     "output_type": "stream",
     "text": [
      "True\n"
     ]
    }
   ],
   "source": [
    "class Rational:\n",
    "    def __init__(self, p, q):\n",
    "        self.nominator = p\n",
    "        self.denominator = q\n",
    "        num = p / q\n",
    "\n",
    "    def __str__(self):\n",
    "        number = str(self.nominator) + \"/\" + str(self.denominator)\n",
    "        return number\n",
    "\n",
    "    def simplfyRational(self):\n",
    "        num1 = self.nominator\n",
    "        num2 = self.denominator\n",
    "\n",
    "        while (num2):\n",
    "            num1, num2 = num2, num1 % num2\n",
    "        gcd = num1\n",
    "        return str(int(self.nominator / gcd)) + \"/\" + str(int(self.denominator / gcd))\n",
    "\n",
    "    def __add__(self):\n",
    "        num1 =  self.nominator \n",
    "        num2  = self.denominator \n",
    "        return num2 + num1\n",
    "\n",
    "    def __sub__(self):\n",
    "        num1 = self.nominator  \n",
    "        num2 = self.denominator  \n",
    "        return num2 - num1\n",
    "\n",
    "\n",
    "    def __mul__(self):\n",
    "        num1 = self.nominator\n",
    "        num2 = self.denominator\n",
    "        return num1 * num2\n",
    "\n",
    "    def __div__(self):\n",
    "        num1 = self.nominator\n",
    "        num2 = self.denominator\n",
    "        return num1 / num2\n",
    "    ################################# SOLUTION START HERE #################################\n",
    "    def __compareEquality__(self):\n",
    "        num1 = self.nominator\n",
    "        num2 = self.denominator\n",
    "\n",
    "        equality = False\n",
    "        if num1 == num2:\n",
    "            equality = True\n",
    "        if num1 != num2:\n",
    "            equality = False\n",
    "        return  equality\n",
    "    #######################################################################################\n",
    "\n",
    "rationalNumber = Rational(100, 100)\n",
    "print(rationalNumber.__compareEquality__())"
   ]
  },
  {
   "cell_type": "markdown",
   "id": "094a546f",
   "metadata": {},
   "source": [
    "### (i) Add a method to convert the rational number to afloating point (the __float__() method may be handy)."
   ]
  },
  {
   "cell_type": "code",
   "execution_count": 56,
   "id": "9b40477c",
   "metadata": {},
   "outputs": [
    {
     "name": "stdout",
     "output_type": "stream",
     "text": [
      "0.000989981388349899\n"
     ]
    }
   ],
   "source": [
    "class Rational:\n",
    "    def __init__(self, p, q):\n",
    "        self.nominator = p\n",
    "        self.denominator = q\n",
    "        num = p / q\n",
    "\n",
    "    def __str__(self):\n",
    "        number = str(self.nominator) + \"/\" + str(self.denominator)\n",
    "        return number\n",
    "\n",
    "    def simplfyRational(self):\n",
    "        num1 = self.nominator\n",
    "        num2 = self.denominator\n",
    "\n",
    "        while (num2):\n",
    "            num1, num2 = num2, num1 % num2\n",
    "        gcd = num1\n",
    "        return str(int(self.nominator / gcd)) + \"/\" + str(int(self.denominator / gcd))\n",
    "\n",
    "    def __add__(self):\n",
    "        num1 =  self.nominator \n",
    "        num2  = self.denominator \n",
    "        return num2 + num1\n",
    "\n",
    "    def __sub__(self):\n",
    "        num1 = self.nominator  \n",
    "        num2 = self.denominator  \n",
    "        return num2 - num1\n",
    "\n",
    "\n",
    "    def __mul__(self):\n",
    "        num1 = self.nominator\n",
    "        num2 = self.denominator\n",
    "        return num1 * num2\n",
    "\n",
    "    def __div__(self):\n",
    "        num1 = self.nominator\n",
    "        num2 = self.denominator\n",
    "        return num1 / num2\n",
    "\n",
    "    def __compareEquality__(self):\n",
    "        num1 = self.nominator\n",
    "        num2 = self.denominator\n",
    "\n",
    "        equality = False\n",
    "        if num1 == num2:\n",
    "            equality = True\n",
    "        if num1 != num2:\n",
    "            equality = False\n",
    "        return  equality\n",
    "    ################################# SOLUTION START HERE #################################\n",
    "    def __float__(self):\n",
    "        num1 = self.nominator\n",
    "        num2 = self.denominator\n",
    "\n",
    "        return num1/num2\n",
    "    #######################################################################################\n",
    "\n",
    "rationalNumber = Rational(100, 101012)\n",
    "print(rationalNumber.__float__())"
   ]
  },
  {
   "cell_type": "markdown",
   "id": "b3b62c8e",
   "metadata": {},
   "source": [
    "### (j) Add any more functionality that you think is useful but I failed to mention."
   ]
  },
  {
   "cell_type": "code",
   "execution_count": 58,
   "id": "72ca17e7",
   "metadata": {},
   "outputs": [
    {
     "name": "stdout",
     "output_type": "stream",
     "text": [
      "27\n"
     ]
    }
   ],
   "source": [
    "class Rational:\n",
    "    def __init__(self, p, q):\n",
    "        self.nominator = p\n",
    "        self.denominator = q\n",
    "        num = p / q\n",
    "\n",
    "    def __str__(self):\n",
    "        number = str(self.nominator) + \"/\" + str(self.denominator)\n",
    "        return number\n",
    "\n",
    "    def simplfyRational(self):\n",
    "        num1 = self.nominator\n",
    "        num2 = self.denominator\n",
    "\n",
    "        while (num2):\n",
    "            num1, num2 = num2, num1 % num2\n",
    "        gcd = num1\n",
    "        return str(int(self.nominator / gcd)) + \"/\" + str(int(self.denominator / gcd))\n",
    "\n",
    "    def __add__(self):\n",
    "        num1 =  self.nominator \n",
    "        num2  = self.denominator \n",
    "        return num2 + num1\n",
    "\n",
    "    def __sub__(self):\n",
    "        num1 = self.nominator  \n",
    "        num2 = self.denominator  \n",
    "        return num2 - num1\n",
    "\n",
    "\n",
    "    def __mul__(self):\n",
    "        num1 = self.nominator\n",
    "        num2 = self.denominator\n",
    "        return num1 * num2\n",
    "\n",
    "    def __div__(self):\n",
    "        num1 = self.nominator\n",
    "        num2 = self.denominator\n",
    "        return num1 / num2\n",
    "\n",
    "    def __compareEquality__(self):\n",
    "        num1 = self.nominator\n",
    "        num2 = self.denominator\n",
    "\n",
    "        equality = False\n",
    "        if num1 == num2:\n",
    "            equality = True\n",
    "        if num1 != num2:\n",
    "            equality = False\n",
    "        return  equality\n",
    "\n",
    "    def __float__(self):\n",
    "        num1 = self.nominator\n",
    "        num2 = self.denominator\n",
    "\n",
    "        return num1/num2\n",
    "     ################################# SOLUTION START HERE #################################\n",
    "    def __power__(self):\n",
    "        num1 = self.nominator\n",
    "        num2 = self.denominator\n",
    "\n",
    "        return num1 ** num2\n",
    "    #######################################################################################\n",
    "\n",
    "rationalNumber = Rational(3,3)\n",
    "print(rationalNumber.__power__())"
   ]
  },
  {
   "cell_type": "markdown",
   "id": "e2f20b26",
   "metadata": {},
   "source": [
    "# (Exercise 8.6: Binary search tree)"
   ]
  },
  {
   "cell_type": "markdown",
   "id": "617c72d8",
   "metadata": {},
   "source": [
    "### (a) Define a class Node, and write the constructor, which takes one argument, value, and initializes the left and right children to None."
   ]
  },
  {
   "cell_type": "code",
   "execution_count": 66,
   "id": "05b0325d",
   "metadata": {},
   "outputs": [],
   "source": [
    "class Node:\n",
    "\n",
    "    def __init__(self, value):\n",
    "\n",
    "        self.leftChild = None\n",
    "        self.rightChild = None\n",
    "        self.value = value\n"
   ]
  },
  {
   "cell_type": "markdown",
   "id": "726dacb4",
   "metadata": {},
   "source": [
    "### (b) Write a function to print the tree."
   ]
  },
  {
   "cell_type": "code",
   "execution_count": 85,
   "id": "37102502",
   "metadata": {},
   "outputs": [
    {
     "name": "stdout",
     "output_type": "stream",
     "text": [
      "10\n",
      "20\n",
      "5\n",
      "15\n",
      "25\n",
      "None\n"
     ]
    }
   ],
   "source": [
    "class Node:\n",
    "\n",
    "    def __init__(self, value):\n",
    "\n",
    "        self.leftChild = None\n",
    "        self.rightChild = None\n",
    "        self.value = value\n",
    "\n",
    "    def insertRight(self, value):\n",
    "\n",
    "        if self.value:\n",
    "            if self.rightChild is None:\n",
    "                self.rightChild = Node(value)\n",
    "            else:\n",
    "                self.rightChild.insertRight(value)\n",
    "        else:\n",
    "            self.value = value\n",
    "            \n",
    "    def printTree(self):\n",
    "        if self.leftChild:\n",
    "            self.leftChild.printTree()\n",
    "        print( self.value),\n",
    "        if self.rightChild:\n",
    "            self.rightChild.printTree()\n",
    "            \n",
    "node = Node(10)\n",
    "node.insertRight(20)\n",
    "node.insertRight(5)\n",
    "node.insertRight(15)\n",
    "node.insertRight(25)\n",
    "print(node.printTree())"
   ]
  },
  {
   "cell_type": "code",
   "execution_count": null,
   "id": "e633b7aa",
   "metadata": {},
   "outputs": [],
   "source": []
  },
  {
   "cell_type": "markdown",
   "id": "51553098",
   "metadata": {},
   "source": [
    "### (c) Write a function that inserts a new value in the tree at the right location."
   ]
  },
  {
   "cell_type": "code",
   "execution_count": 3,
   "id": "4647fc45",
   "metadata": {},
   "outputs": [],
   "source": [
    "class Node:\n",
    "\n",
    "    def __init__(self, value):\n",
    "\n",
    "        self.leftChild = None\n",
    "        self.rightChild = None\n",
    "        self.value = value\n",
    "\n",
    "    #IT INSERT EVERY TIME TO RIGHT LOCATION WITHOUT ANY COMPARISON, BECAUSE QUESTION NOT WANT ANY COMPARISON\n",
    "    #IT SAYS JUST ADD TO RIGHT LOCATION\n",
    "    \n",
    "    def insertRight(self, value):\n",
    "\n",
    "        if self.value:\n",
    "            if self.rightChild is None:\n",
    "                self.rightChild = Node(value)\n",
    "            else:\n",
    "                self.rightChild.insertRight(value)\n",
    "        else:\n",
    "            self.value = value\n",
    "            \n",
    "    def PrintTree(self):\n",
    "        if self.leftChild:\n",
    "            self.leftChild.PrintTree()\n",
    "        print(self.value)\n",
    "        allElements.append()\n",
    "        if self.rightChild:\n",
    "            self.rightChild.PrintTree()\n",
    "            \n",
    "node = Node(10)\n",
    "node.insertRight(20)\n",
    "node.insertRight(5)\n",
    "node.insertRight(15)\n",
    "node.insertRight(25)\n",
    "\n"
   ]
  }
 ],
 "metadata": {
  "kernelspec": {
   "display_name": "Python 3 (ipykernel)",
   "language": "python",
   "name": "python3"
  },
  "language_info": {
   "codemirror_mode": {
    "name": "ipython",
    "version": 3
   },
   "file_extension": ".py",
   "mimetype": "text/x-python",
   "name": "python",
   "nbconvert_exporter": "python",
   "pygments_lexer": "ipython3",
   "version": "3.9.7"
  }
 },
 "nbformat": 4,
 "nbformat_minor": 5
}
