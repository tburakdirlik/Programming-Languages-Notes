{
 "cells": [
  {
   "cell_type": "markdown",
   "id": "6aee889f",
   "metadata": {},
   "source": [
    "###  Matplotlib Exercise 11.1: Plotting a function Plot the function f(x) = sin2^(x −2)e−x"
   ]
  },
  {
   "cell_type": "code",
   "execution_count": 1,
   "id": "747f9ce2",
   "metadata": {},
   "outputs": [
    {
     "data": {
      "image/png": "[encoded data removed]",
      "text/plain": [
       "<Figure size 432x288 with 1 Axes>"
      ]
     },
     "metadata": {
      "needs_background": "light"
     },
     "output_type": "display_data"
    }
   ],
   "source": [
    "import matplotlib.pyplot as plt\n",
    "import math\n",
    "import numpy as np\n",
    "\n",
    "\n",
    "def function(x):    \n",
    "    \n",
    "    return (math.sin(x-2) ** 2) * math.exp(-x ** 2)\n",
    "\n",
    "\n",
    "plt.xlabel('x')\n",
    "plt.ylabel('y')\n",
    "plt.title('$f(x)=sin^2{x-2)*e^{-x^2}$')\n",
    "\n",
    "x = np.linspace(0, 2)\n",
    "y = np.vectorize(function)\n",
    "\n",
    "\n",
    "plt.plot(x, y(x))\n",
    "plt.show()\n"
   ]
  },
  {
   "cell_type": "markdown",
   "id": "2af644df",
   "metadata": {},
   "source": [
    "### Exercise 10.2: Optimization Find the maximum of the function f(x) = sin^2(x −2)e−x"
   ]
  },
  {
   "cell_type": "code",
   "execution_count": 84,
   "id": "49a02f3f",
   "metadata": {},
   "outputs": [
    {
     "data": {
      "image/png": "[encoded data removed]",
      "text/plain": [
       "<Figure size 432x288 with 1 Axes>"
      ]
     },
     "metadata": {
      "needs_background": "light"
     },
     "output_type": "display_data"
    },
    {
     "name": "stdout",
     "output_type": "stream",
     "text": [
      "Max value at y direction :  0.9116853998146751\n"
     ]
    }
   ],
   "source": [
    "import matplotlib.pyplot as plt\n",
    "import math\n",
    "import numpy as np\n",
    "\n",
    "\n",
    "\n",
    "\n",
    "def function(x):\n",
    "    \n",
    "    \n",
    "    return (math.sin(x-2) ** 2) * math.exp(-x ** 2)\n",
    "\n",
    "x = np.linspace(-1, 1,10000)\n",
    "plt.xlabel('x')\n",
    "plt.ylabel('y')\n",
    "plt.title('$f(x)=sin^2{x-2)*e^{-x^2}$')\n",
    "y = np.vectorize(function)\n",
    "\n",
    "\n",
    "plt.plot(x, y(x))\n",
    "plt.show()\n",
    "\n",
    "\n",
    "values = []\n",
    "for i in x:\n",
    "    values.append(function(i))\n",
    "\n",
    "print(\"Max value at y direction : \" , max(values))"
   ]
  },
  {
   "cell_type": "markdown",
   "id": "fc15390b",
   "metadata": {},
   "source": [
    "### Exercise 9.5:"
   ]
  },
  {
   "cell_type": "code",
   "execution_count": 83,
   "id": "11e983ab",
   "metadata": {},
   "outputs": [
    {
     "name": "stdout",
     "output_type": "stream",
     "text": [
      "n =200 p =0.5 n*p =100.0 singular value =99.78236021223336\n"
     ]
    }
   ],
   "source": [
    "import numpy as np\n",
    "from scipy.linalg import toeplitz\n",
    "from numpy import random\n",
    "\n",
    "n = 200\n",
    "C = np.zeros([n,n])\n",
    "p = 0.5\n",
    "\n",
    "def generateEntry():\n",
    "    \n",
    "    \n",
    "    probList = [p,1-p]\n",
    "    entry    = [1,0]\n",
    "    entryValue = np.random.choice(entry, 1, p=probList)\n",
    "    return entryValue\n",
    "    \n",
    "for i in range(200):\n",
    "    for j in range(200):\n",
    "            C[i][j] = generateEntry()\n",
    "            \n",
    "#print (C)\n",
    "SVD = np.linalg.svd(C)\n",
    "#largest singular value is very close  to n*p\n",
    "print(\"n =\" + str(n) + \" p =\" +  str(p) + \" n*p =\" + str (n * p) + \" singular value =\" + str (SVD[1].max()))\n"
   ]
  },
  {
   "cell_type": "markdown",
   "id": "c64029c4",
   "metadata": {},
   "source": [
    "### 10 Scipy 10.1"
   ]
  },
  {
   "cell_type": "markdown",
   "id": "cc99a4da",
   "metadata": {},
   "source": [
    "#### Generate matrix A ∈ Rm×n with m > n. Also generate some vector b ∈ Rm. Now find x =argminxAx−b2. Print the norm of the residual."
   ]
  },
  {
   "cell_type": "code",
   "execution_count": 85,
   "id": "67c2262e",
   "metadata": {},
   "outputs": [],
   "source": [
    "m = 10\n",
    "n = 5\n",
    "A = np.zeros([m,n])\n",
    "b = np.array(A[0])\n"
   ]
  },
  {
   "cell_type": "markdown",
   "id": "ac7a79c9",
   "metadata": {},
   "source": [
    "### Exercise 11.3: Histogram and density estimation"
   ]
  },
  {
   "cell_type": "markdown",
   "id": "b06826c8",
   "metadata": {},
   "source": [
    "### Generate a vector z of 10000 observations from your favorite exotic distribution. Then make a plot that shows a histogram of z (with 25 bins), along with an estimate for the density, using a Gaussian kernel density estimator (see scipy.stats). See Figure 2 for an example plot."
   ]
  },
  {
   "cell_type": "code",
   "execution_count": 86,
   "id": "b037216e",
   "metadata": {},
   "outputs": [],
   "source": []
  },
  {
   "cell_type": "code",
   "execution_count": null,
   "id": "98a4d273",
   "metadata": {},
   "outputs": [],
   "source": []
  }
 ],
 "metadata": {
  "kernelspec": {
   "display_name": "Python 3 (ipykernel)",
   "language": "python",
   "name": "python3"
  },
  "language_info": {
   "codemirror_mode": {
    "name": "ipython",
    "version": 3
   },
   "file_extension": ".py",
   "mimetype": "text/x-python",
   "name": "python",
   "nbconvert_exporter": "python",
   "pygments_lexer": "ipython3",
   "version": "3.9.7"
  }
 },
 "nbformat": 4,
 "nbformat_minor": 5
}
