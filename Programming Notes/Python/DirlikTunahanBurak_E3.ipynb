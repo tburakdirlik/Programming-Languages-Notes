{
 "cells": [
  {
   "cell_type": "markdown",
   "id": "cbe8ceb2",
   "metadata": {},
   "source": [
    "# 3 Functions"
   ]
  },
  {
   "cell_type": "markdown",
   "id": "c2dd1b2c",
   "metadata": {},
   "source": [
    "## Exercise 3.1: Hello"
   ]
  },
  {
   "cell_type": "code",
   "execution_count": 17,
   "id": "64327d73",
   "metadata": {},
   "outputs": [],
   "source": [
    "#(a)\n",
    "\n",
    "def hello_world():\n",
    "    print(\"Hello, world!\")"
   ]
  },
  {
   "cell_type": "code",
   "execution_count": 18,
   "id": "6d017584",
   "metadata": {},
   "outputs": [
    {
     "name": "stdout",
     "output_type": "stream",
     "text": [
      "Hello, world!\n"
     ]
    }
   ],
   "source": [
    "hello_world()"
   ]
  },
  {
   "cell_type": "code",
   "execution_count": 19,
   "id": "8a41b723",
   "metadata": {},
   "outputs": [],
   "source": [
    "#(b)\n",
    "\n",
    "def hello_name(name):\n",
    "    print(\"Hello, \" + name + \"!\")"
   ]
  },
  {
   "cell_type": "code",
   "execution_count": 20,
   "id": "7ce05bc9",
   "metadata": {},
   "outputs": [
    {
     "name": "stdout",
     "output_type": "stream",
     "text": [
      "Hello, Burak!\n"
     ]
    }
   ],
   "source": [
    "hello_name(\"Burak\")"
   ]
  },
  {
   "cell_type": "code",
   "execution_count": 21,
   "id": "69e1a04d",
   "metadata": {},
   "outputs": [],
   "source": [
    "#(c)\n",
    "# The differences between print and return is: if we use print in the function we cannot use this function to assign variable\n",
    "# and we can not use as an input for another function. Return keyword provide these."
   ]
  },
  {
   "cell_type": "markdown",
   "id": "d0b614e0",
   "metadata": {},
   "source": [
    "# Exercise 3.2: Polynomial"
   ]
  },
  {
   "cell_type": "code",
   "execution_count": 22,
   "id": "ce434138",
   "metadata": {},
   "outputs": [],
   "source": [
    "def polynomial(number):\n",
    "    result = (3 * number * number) - number + 2 \n",
    "    print(result)"
   ]
  },
  {
   "cell_type": "code",
   "execution_count": 24,
   "id": "995d9209",
   "metadata": {},
   "outputs": [
    {
     "name": "stdout",
     "output_type": "stream",
     "text": [
      "12\n"
     ]
    }
   ],
   "source": [
    "polynomial(2)"
   ]
  },
  {
   "cell_type": "markdown",
   "id": "77ab1739",
   "metadata": {},
   "source": [
    "# Exercise 3.3: Maximum"
   ]
  },
  {
   "cell_type": "code",
   "execution_count": 29,
   "id": "40e76f9b",
   "metadata": {},
   "outputs": [],
   "source": [
    "# (a)\n",
    "\n",
    "def my_max(x,y):\n",
    "    if x>y:\n",
    "        return x\n",
    "    if x==y:\n",
    "        return x\n",
    "    else:\n",
    "        return y"
   ]
  },
  {
   "cell_type": "code",
   "execution_count": 28,
   "id": "37a81fd7",
   "metadata": {},
   "outputs": [
    {
     "name": "stdout",
     "output_type": "stream",
     "text": [
      "3\n"
     ]
    }
   ],
   "source": [
    "print(my_max(2,3))"
   ]
  },
  {
   "cell_type": "code",
   "execution_count": 30,
   "id": "de43101e",
   "metadata": {},
   "outputs": [],
   "source": [
    "# (b)\n",
    "\n",
    "def my_max(x,y):\n",
    "    if x>y:\n",
    "        return x\n",
    "    if x==y:\n",
    "        return x\n",
    "    if x<y:\n",
    "        return y"
   ]
  },
  {
   "cell_type": "code",
   "execution_count": 31,
   "id": "dda86de6",
   "metadata": {},
   "outputs": [
    {
     "data": {
      "text/plain": [
       "10"
      ]
     },
     "execution_count": 31,
     "metadata": {},
     "output_type": "execute_result"
    }
   ],
   "source": [
    "my_max(2,10)"
   ]
  },
  {
   "cell_type": "markdown",
   "id": "99eb7939",
   "metadata": {},
   "source": [
    "# Exercise 3.4: Primes"
   ]
  },
  {
   "cell_type": "code",
   "execution_count": 47,
   "id": "e74053e0",
   "metadata": {},
   "outputs": [],
   "source": [
    "# (a)\n",
    "\n",
    "def is_prime(num):\n",
    "    if num < 2:\n",
    "        return False\n",
    "    for n in range(2,int(num**1/2)+1):\n",
    "        if num%n==0:\n",
    "            return False\n",
    "    return True"
   ]
  },
  {
   "cell_type": "code",
   "execution_count": 48,
   "id": "de49b17e",
   "metadata": {},
   "outputs": [
    {
     "data": {
      "text/plain": [
       "True"
      ]
     },
     "execution_count": 48,
     "metadata": {},
     "output_type": "execute_result"
    }
   ],
   "source": [
    "is_prime(3)"
   ]
  },
  {
   "cell_type": "code",
   "execution_count": 52,
   "id": "9c04f1ed",
   "metadata": {},
   "outputs": [],
   "source": [
    "# (b)\n",
    "# tekrar bak\n",
    "\n",
    "def isprime(num):\n",
    "    if (6*num-1)%2 !=0:\n",
    "        return True\n",
    "    if (6*num+1)%2 !=0:\n",
    "        return True\n",
    "    else:\n",
    "        return False\n",
    "    "
   ]
  },
  {
   "cell_type": "code",
   "execution_count": 56,
   "id": "5a90a5a3",
   "metadata": {},
   "outputs": [
    {
     "data": {
      "text/plain": [
       "True"
      ]
     },
     "execution_count": 56,
     "metadata": {},
     "output_type": "execute_result"
    }
   ],
   "source": [
    "isprime(4)"
   ]
  },
  {
   "cell_type": "code",
   "execution_count": 80,
   "id": "06675d6a",
   "metadata": {},
   "outputs": [],
   "source": [
    "# (c)\n",
    "\n",
    "\n",
    "def isPrime(num):\n",
    "    start = 2\n",
    "    upTo = num\n",
    "\n",
    "    print(\"Prime numbers upTo \" + str (num))\n",
    "\n",
    "    for num in range(start, upTo + 1):\n",
    "       if num > 1:\n",
    "           for i in range(2, num):\n",
    "               if (num % i) == 0:\n",
    "                   break\n",
    "           else:\n",
    "               print(num)\n"
   ]
  },
  {
   "cell_type": "code",
   "execution_count": 81,
   "id": "36a14901",
   "metadata": {},
   "outputs": [
    {
     "name": "stdout",
     "output_type": "stream",
     "text": [
      "Prime numbers upTo 19\n",
      "2\n",
      "3\n",
      "5\n",
      "7\n",
      "11\n",
      "13\n",
      "17\n",
      "19\n"
     ]
    }
   ],
   "source": [
    "isPrime(19)"
   ]
  },
  {
   "cell_type": "code",
   "execution_count": null,
   "id": "7b95cdba",
   "metadata": {},
   "outputs": [],
   "source": []
  },
  {
   "cell_type": "code",
   "execution_count": null,
   "id": "09a05cf8",
   "metadata": {},
   "outputs": [],
   "source": [
    "# (d)\n",
    "\n",
    "def isPrime(num):\n",
    "    for x in range\n",
    "    start = 2\n",
    "    upTo = num\n",
    "    for num in range(start, upTo + 1):\n",
    "        if num > 1:\n",
    "        for i in range (2,num):\n",
    "            if (num % i) == 0:\n",
    "                break\n",
    "         else:\n",
    "            print(num)"
   ]
  },
  {
   "cell_type": "code",
   "execution_count": null,
   "id": "5c4f9823",
   "metadata": {},
   "outputs": [],
   "source": []
  },
  {
   "cell_type": "code",
   "execution_count": null,
   "id": "886ea832",
   "metadata": {},
   "outputs": [],
   "source": []
  },
  {
   "cell_type": "code",
   "execution_count": null,
   "id": "a294a1c8",
   "metadata": {},
   "outputs": [],
   "source": []
  },
  {
   "cell_type": "code",
   "execution_count": null,
   "id": "a2f47eda",
   "metadata": {},
   "outputs": [],
   "source": []
  },
  {
   "cell_type": "code",
   "execution_count": null,
   "id": "0bee51b5",
   "metadata": {},
   "outputs": [],
   "source": []
  },
  {
   "cell_type": "code",
   "execution_count": null,
   "id": "1d626650",
   "metadata": {},
   "outputs": [],
   "source": []
  },
  {
   "cell_type": "code",
   "execution_count": null,
   "id": "3f12ce69",
   "metadata": {},
   "outputs": [],
   "source": []
  },
  {
   "cell_type": "code",
   "execution_count": null,
   "id": "bf395520",
   "metadata": {},
   "outputs": [],
   "source": []
  },
  {
   "cell_type": "code",
   "execution_count": null,
   "id": "1904df00",
   "metadata": {},
   "outputs": [],
   "source": []
  },
  {
   "cell_type": "code",
   "execution_count": null,
   "id": "4958698f",
   "metadata": {},
   "outputs": [],
   "source": []
  },
  {
   "cell_type": "code",
   "execution_count": null,
   "id": "9b7b437d",
   "metadata": {},
   "outputs": [],
   "source": []
  },
  {
   "cell_type": "code",
   "execution_count": null,
   "id": "17dbb49b",
   "metadata": {},
   "outputs": [],
   "source": []
  },
  {
   "cell_type": "code",
   "execution_count": null,
   "id": "a1b15947",
   "metadata": {},
   "outputs": [],
   "source": []
  },
  {
   "cell_type": "code",
   "execution_count": null,
   "id": "cc067dae",
   "metadata": {},
   "outputs": [],
   "source": []
  },
  {
   "cell_type": "code",
   "execution_count": null,
   "id": "1da759e5",
   "metadata": {},
   "outputs": [],
   "source": []
  },
  {
   "cell_type": "code",
   "execution_count": null,
   "id": "61ed0b1e",
   "metadata": {},
   "outputs": [],
   "source": []
  },
  {
   "cell_type": "code",
   "execution_count": null,
   "id": "8f47d324",
   "metadata": {},
   "outputs": [],
   "source": []
  },
  {
   "cell_type": "code",
   "execution_count": null,
   "id": "820d5983",
   "metadata": {},
   "outputs": [],
   "source": []
  },
  {
   "cell_type": "code",
   "execution_count": null,
   "id": "117e4c1d",
   "metadata": {},
   "outputs": [],
   "source": []
  },
  {
   "cell_type": "code",
   "execution_count": null,
   "id": "61f64e55",
   "metadata": {},
   "outputs": [],
   "source": []
  },
  {
   "cell_type": "code",
   "execution_count": null,
   "id": "eb12f22d",
   "metadata": {},
   "outputs": [],
   "source": []
  },
  {
   "cell_type": "code",
   "execution_count": null,
   "id": "f19dbb6c",
   "metadata": {},
   "outputs": [],
   "source": []
  },
  {
   "cell_type": "code",
   "execution_count": null,
   "id": "26ade658",
   "metadata": {},
   "outputs": [],
   "source": []
  },
  {
   "cell_type": "code",
   "execution_count": null,
   "id": "48c82d4d",
   "metadata": {},
   "outputs": [],
   "source": []
  },
  {
   "cell_type": "code",
   "execution_count": null,
   "id": "79d921a3",
   "metadata": {},
   "outputs": [],
   "source": []
  },
  {
   "cell_type": "code",
   "execution_count": null,
   "id": "acc9a1e5",
   "metadata": {},
   "outputs": [],
   "source": []
  },
  {
   "cell_type": "code",
   "execution_count": null,
   "id": "04e7f5e5",
   "metadata": {},
   "outputs": [],
   "source": []
  },
  {
   "cell_type": "code",
   "execution_count": null,
   "id": "d017f284",
   "metadata": {},
   "outputs": [],
   "source": []
  }
 ],
 "metadata": {
  "kernelspec": {
   "display_name": "Python 3 (ipykernel)",
   "language": "python",
   "name": "python3"
  },
  "language_info": {
   "codemirror_mode": {
    "name": "ipython",
    "version": 3
   },
   "file_extension": ".py",
   "mimetype": "text/x-python",
   "name": "python",
   "nbconvert_exporter": "python",
   "pygments_lexer": "ipython3",
   "version": "3.9.7"
  }
 },
 "nbformat": 4,
 "nbformat_minor": 5
}
